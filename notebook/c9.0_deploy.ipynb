{
 "cells": [
  {
   "cell_type": "markdown",
   "id": "58e77a49",
   "metadata": {},
   "source": [
    "# PA005: High Value Customer Identification (Insiders)"
   ]
  },
  {
   "cell_type": "markdown",
   "id": "b8ad4974",
   "metadata": {},
   "source": [
    "# 0.0 Imports"
   ]
  },
  {
   "cell_type": "code",
   "execution_count": 1,
   "id": "673ec5e0",
   "metadata": {
    "ExecuteTime": {
     "end_time": "2022-08-15T11:54:59.469826Z",
     "start_time": "2022-08-15T11:54:45.133836Z"
    }
   },
   "outputs": [],
   "source": [
    "import re\n",
    "import os\n",
    "import s3fs\n",
    "import pickle\n",
    "import inflection\n",
    "import numpy   as np\n",
    "import pandas  as pd\n",
    "import seaborn as sns\n",
    "import umap.umap_ as umap\n",
    "\n",
    "from matplotlib import pyplot as plt\n",
    "\n",
    "from sklearn import cluster as c\n",
    "from sklearn import mixture as mx\n",
    "from sklearn import metrics as m\n",
    "from sklearn import decomposition as dd\n",
    "from sklearn.manifold import TSNE\n",
    "from sklearn import ensemble as en\n",
    "from sklearn import preprocessing as pp\n",
    "\n",
    "from plotly import express as px"
   ]
  },
  {
   "cell_type": "code",
   "execution_count": 3,
   "id": "686ce779",
   "metadata": {},
   "outputs": [],
   "source": [
    "AWS_ACCESS_KEY_ID = os.environ.get('AWS_ACCESS_KEY_ID')\n",
    "AWS_SECRET_ACCESS_KEY = os.environ.get('AWS_SECRET_ACCESS_KEY')"
   ]
  },
  {
   "cell_type": "markdown",
   "id": "9db6f8ec",
   "metadata": {},
   "source": [
    "## 0.2 Load dataset"
   ]
  },
  {
   "cell_type": "code",
   "execution_count": 4,
   "id": "f88341ed",
   "metadata": {
    "ExecuteTime": {
     "end_time": "2022-08-15T11:55:00.388903Z",
     "start_time": "2022-08-15T11:54:59.473815Z"
    }
   },
   "outputs": [],
   "source": [
    "#load data\n",
    "df = pd.read_csv('../data/Ecommerce.csv', encoding='unicode_escape')\n",
    "\n",
    "#drop extra column\n",
    "df = df.drop(columns=['Unnamed: 8'], axis=1)"
   ]
  },
  {
   "cell_type": "markdown",
   "id": "f3c00187",
   "metadata": {},
   "source": [
    "# 1.0 Descrição dos dados"
   ]
  },
  {
   "cell_type": "code",
   "execution_count": 5,
   "id": "0e5a870f",
   "metadata": {
    "ExecuteTime": {
     "end_time": "2022-08-15T11:55:00.420761Z",
     "start_time": "2022-08-15T11:55:00.391906Z"
    }
   },
   "outputs": [],
   "source": [
    "df1 = df.copy()"
   ]
  },
  {
   "cell_type": "markdown",
   "id": "23eb2a7e",
   "metadata": {},
   "source": [
    "## 1.1 Rename Columns"
   ]
  },
  {
   "cell_type": "code",
   "execution_count": 6,
   "id": "1807883a",
   "metadata": {
    "ExecuteTime": {
     "end_time": "2022-08-15T11:55:00.435606Z",
     "start_time": "2022-08-15T11:55:00.424765Z"
    },
    "code_folding": []
   },
   "outputs": [],
   "source": [
    "cols_old = ['InvoiceNo', 'StockCode', 'Description', 'Quantity', 'InvoiceDate',\n",
    "            'UnitPrice', 'CustomerID', 'Country']\n",
    "\n",
    "snakecase = lambda x: inflection.underscore( x )\n",
    "\n",
    "cols_new = list(map(snakecase, cols_old))\n",
    "\n",
    "#rename\n",
    "df1.columns = cols_new"
   ]
  },
  {
   "cell_type": "markdown",
   "id": "5e264764",
   "metadata": {},
   "source": [
    "## 1.2 Data Dimensions"
   ]
  },
  {
   "cell_type": "code",
   "execution_count": 7,
   "id": "a93f7cd9",
   "metadata": {
    "ExecuteTime": {
     "end_time": "2022-08-15T11:55:00.451051Z",
     "start_time": "2022-08-15T11:55:00.437614Z"
    }
   },
   "outputs": [
    {
     "name": "stdout",
     "output_type": "stream",
     "text": [
      "Number of Rows: 541909\n",
      "Number of Columns: 8\n"
     ]
    }
   ],
   "source": [
    "print('Number of Rows: {}'.format(df1.shape[0]))\n",
    "print('Number of Columns: {}'.format(df1.shape[1]))"
   ]
  },
  {
   "cell_type": "markdown",
   "id": "904db8a3",
   "metadata": {},
   "source": [
    "## 1.3 Data Types"
   ]
  },
  {
   "cell_type": "code",
   "execution_count": 8,
   "id": "5a58a5e6",
   "metadata": {
    "ExecuteTime": {
     "end_time": "2022-08-15T11:55:00.467053Z",
     "start_time": "2022-08-15T11:55:00.453053Z"
    }
   },
   "outputs": [
    {
     "data": {
      "text/plain": [
       "invoice_no       object\n",
       "stock_code       object\n",
       "description      object\n",
       "quantity          int64\n",
       "invoice_date     object\n",
       "unit_price      float64\n",
       "customer_id     float64\n",
       "country          object\n",
       "dtype: object"
      ]
     },
     "execution_count": 8,
     "metadata": {},
     "output_type": "execute_result"
    }
   ],
   "source": [
    "df1.dtypes"
   ]
  },
  {
   "cell_type": "markdown",
   "id": "03cae0d3",
   "metadata": {},
   "source": [
    "## 1.4 Check NA"
   ]
  },
  {
   "cell_type": "code",
   "execution_count": 9,
   "id": "6c454743",
   "metadata": {
    "ExecuteTime": {
     "end_time": "2022-08-15T11:55:00.862047Z",
     "start_time": "2022-08-15T11:55:00.469053Z"
    }
   },
   "outputs": [
    {
     "data": {
      "text/plain": [
       "invoice_no           0\n",
       "stock_code           0\n",
       "description       1454\n",
       "quantity             0\n",
       "invoice_date         0\n",
       "unit_price           0\n",
       "customer_id     135080\n",
       "country              0\n",
       "dtype: int64"
      ]
     },
     "execution_count": 9,
     "metadata": {},
     "output_type": "execute_result"
    }
   ],
   "source": [
    "df1.isnull().sum()"
   ]
  },
  {
   "cell_type": "markdown",
   "id": "45208586",
   "metadata": {},
   "source": [
    "## 1.5 Replace NA"
   ]
  },
  {
   "cell_type": "code",
   "execution_count": 10,
   "id": "f1c90866",
   "metadata": {
    "ExecuteTime": {
     "end_time": "2022-08-15T11:55:00.922045Z",
     "start_time": "2022-08-15T11:55:00.864047Z"
    }
   },
   "outputs": [],
   "source": [
    "#Separar os Dados com NA\n",
    "df_missing = df1.loc[df1['customer_id'].isna(), :]\n",
    "df_not_missing = df1.loc[~df1['customer_id'].isna(), :]"
   ]
  },
  {
   "cell_type": "code",
   "execution_count": 11,
   "id": "6cc8943d",
   "metadata": {
    "ExecuteTime": {
     "end_time": "2022-08-15T11:55:00.953045Z",
     "start_time": "2022-08-15T11:55:00.924045Z"
    },
    "scrolled": true
   },
   "outputs": [
    {
     "data": {
      "text/html": [
       "<div>\n",
       "<style scoped>\n",
       "    .dataframe tbody tr th:only-of-type {\n",
       "        vertical-align: middle;\n",
       "    }\n",
       "\n",
       "    .dataframe tbody tr th {\n",
       "        vertical-align: top;\n",
       "    }\n",
       "\n",
       "    .dataframe thead th {\n",
       "        text-align: right;\n",
       "    }\n",
       "</style>\n",
       "<table border=\"1\" class=\"dataframe\">\n",
       "  <thead>\n",
       "    <tr style=\"text-align: right;\">\n",
       "      <th></th>\n",
       "      <th>invoice_no</th>\n",
       "      <th>stock_code</th>\n",
       "      <th>description</th>\n",
       "      <th>quantity</th>\n",
       "      <th>invoice_date</th>\n",
       "      <th>unit_price</th>\n",
       "      <th>customer_id</th>\n",
       "      <th>country</th>\n",
       "    </tr>\n",
       "  </thead>\n",
       "  <tbody>\n",
       "    <tr>\n",
       "      <th>0</th>\n",
       "      <td>536365</td>\n",
       "      <td>85123A</td>\n",
       "      <td>WHITE HANGING HEART T-LIGHT HOLDER</td>\n",
       "      <td>6</td>\n",
       "      <td>29-Nov-16</td>\n",
       "      <td>2.55</td>\n",
       "      <td>17850.0</td>\n",
       "      <td>United Kingdom</td>\n",
       "    </tr>\n",
       "    <tr>\n",
       "      <th>1</th>\n",
       "      <td>536365</td>\n",
       "      <td>71053</td>\n",
       "      <td>WHITE METAL LANTERN</td>\n",
       "      <td>6</td>\n",
       "      <td>29-Nov-16</td>\n",
       "      <td>3.39</td>\n",
       "      <td>17850.0</td>\n",
       "      <td>United Kingdom</td>\n",
       "    </tr>\n",
       "    <tr>\n",
       "      <th>2</th>\n",
       "      <td>536365</td>\n",
       "      <td>84406B</td>\n",
       "      <td>CREAM CUPID HEARTS COAT HANGER</td>\n",
       "      <td>8</td>\n",
       "      <td>29-Nov-16</td>\n",
       "      <td>2.75</td>\n",
       "      <td>17850.0</td>\n",
       "      <td>United Kingdom</td>\n",
       "    </tr>\n",
       "    <tr>\n",
       "      <th>3</th>\n",
       "      <td>536365</td>\n",
       "      <td>84029G</td>\n",
       "      <td>KNITTED UNION FLAG HOT WATER BOTTLE</td>\n",
       "      <td>6</td>\n",
       "      <td>29-Nov-16</td>\n",
       "      <td>3.39</td>\n",
       "      <td>17850.0</td>\n",
       "      <td>United Kingdom</td>\n",
       "    </tr>\n",
       "    <tr>\n",
       "      <th>4</th>\n",
       "      <td>536365</td>\n",
       "      <td>84029E</td>\n",
       "      <td>RED WOOLLY HOTTIE WHITE HEART.</td>\n",
       "      <td>6</td>\n",
       "      <td>29-Nov-16</td>\n",
       "      <td>3.39</td>\n",
       "      <td>17850.0</td>\n",
       "      <td>United Kingdom</td>\n",
       "    </tr>\n",
       "  </tbody>\n",
       "</table>\n",
       "</div>"
      ],
      "text/plain": [
       "  invoice_no stock_code                          description  quantity  \\\n",
       "0     536365     85123A   WHITE HANGING HEART T-LIGHT HOLDER         6   \n",
       "1     536365      71053                  WHITE METAL LANTERN         6   \n",
       "2     536365     84406B       CREAM CUPID HEARTS COAT HANGER         8   \n",
       "3     536365     84029G  KNITTED UNION FLAG HOT WATER BOTTLE         6   \n",
       "4     536365     84029E       RED WOOLLY HOTTIE WHITE HEART.         6   \n",
       "\n",
       "  invoice_date  unit_price  customer_id         country  \n",
       "0    29-Nov-16        2.55      17850.0  United Kingdom  \n",
       "1    29-Nov-16        3.39      17850.0  United Kingdom  \n",
       "2    29-Nov-16        2.75      17850.0  United Kingdom  \n",
       "3    29-Nov-16        3.39      17850.0  United Kingdom  \n",
       "4    29-Nov-16        3.39      17850.0  United Kingdom  "
      ]
     },
     "execution_count": 11,
     "metadata": {},
     "output_type": "execute_result"
    }
   ],
   "source": [
    "df_not_missing.head()"
   ]
  },
  {
   "cell_type": "code",
   "execution_count": 12,
   "id": "bf37b133",
   "metadata": {
    "ExecuteTime": {
     "end_time": "2022-08-15T11:55:01.000042Z",
     "start_time": "2022-08-15T11:55:00.958044Z"
    }
   },
   "outputs": [
    {
     "data": {
      "text/html": [
       "<div>\n",
       "<style scoped>\n",
       "    .dataframe tbody tr th:only-of-type {\n",
       "        vertical-align: middle;\n",
       "    }\n",
       "\n",
       "    .dataframe tbody tr th {\n",
       "        vertical-align: top;\n",
       "    }\n",
       "\n",
       "    .dataframe thead th {\n",
       "        text-align: right;\n",
       "    }\n",
       "</style>\n",
       "<table border=\"1\" class=\"dataframe\">\n",
       "  <thead>\n",
       "    <tr style=\"text-align: right;\">\n",
       "      <th></th>\n",
       "      <th>invoice_no</th>\n",
       "      <th>stock_code</th>\n",
       "      <th>description</th>\n",
       "      <th>quantity</th>\n",
       "      <th>invoice_date</th>\n",
       "      <th>unit_price</th>\n",
       "      <th>customer_id</th>\n",
       "      <th>country</th>\n",
       "    </tr>\n",
       "  </thead>\n",
       "  <tbody>\n",
       "  </tbody>\n",
       "</table>\n",
       "</div>"
      ],
      "text/plain": [
       "Empty DataFrame\n",
       "Columns: [invoice_no, stock_code, description, quantity, invoice_date, unit_price, customer_id, country]\n",
       "Index: []"
      ]
     },
     "execution_count": 12,
     "metadata": {},
     "output_type": "execute_result"
    }
   ],
   "source": [
    "#Teste para identificar se os invoice_no correspondem em ambos os df's. Nesse caso, não há correspondência. Será necessária outra estratégia.\n",
    "missing_invoice = df_missing['invoice_no'].drop_duplicates().tolist()\n",
    "df_not_missing.loc[df_not_missing['invoice_no'].isin(missing_invoice), :]"
   ]
  },
  {
   "cell_type": "code",
   "execution_count": 13,
   "id": "e217a237",
   "metadata": {
    "ExecuteTime": {
     "end_time": "2022-08-15T11:55:01.016042Z",
     "start_time": "2022-08-15T11:55:01.002043Z"
    }
   },
   "outputs": [
    {
     "data": {
      "text/plain": [
       "18287.0"
      ]
     },
     "execution_count": 13,
     "metadata": {},
     "output_type": "execute_result"
    }
   ],
   "source": [
    "#Verificar o valor máximo do 'customer_id'\n",
    "df_not_missing['customer_id'].max()"
   ]
  },
  {
   "cell_type": "code",
   "execution_count": 14,
   "id": "4d2f612f",
   "metadata": {
    "ExecuteTime": {
     "end_time": "2022-08-15T11:55:01.392031Z",
     "start_time": "2022-08-15T11:55:01.018042Z"
    }
   },
   "outputs": [
    {
     "data": {
      "text/html": [
       "<div>\n",
       "<style scoped>\n",
       "    .dataframe tbody tr th:only-of-type {\n",
       "        vertical-align: middle;\n",
       "    }\n",
       "\n",
       "    .dataframe tbody tr th {\n",
       "        vertical-align: top;\n",
       "    }\n",
       "\n",
       "    .dataframe thead th {\n",
       "        text-align: right;\n",
       "    }\n",
       "</style>\n",
       "<table border=\"1\" class=\"dataframe\">\n",
       "  <thead>\n",
       "    <tr style=\"text-align: right;\">\n",
       "      <th></th>\n",
       "      <th>invoice_no</th>\n",
       "      <th>stock_code</th>\n",
       "      <th>description</th>\n",
       "      <th>quantity</th>\n",
       "      <th>invoice_date</th>\n",
       "      <th>unit_price</th>\n",
       "      <th>country</th>\n",
       "      <th>customer_id</th>\n",
       "    </tr>\n",
       "  </thead>\n",
       "  <tbody>\n",
       "    <tr>\n",
       "      <th>0</th>\n",
       "      <td>536365</td>\n",
       "      <td>85123A</td>\n",
       "      <td>WHITE HANGING HEART T-LIGHT HOLDER</td>\n",
       "      <td>6</td>\n",
       "      <td>29-Nov-16</td>\n",
       "      <td>2.55</td>\n",
       "      <td>United Kingdom</td>\n",
       "      <td>17850.0</td>\n",
       "    </tr>\n",
       "    <tr>\n",
       "      <th>1</th>\n",
       "      <td>536365</td>\n",
       "      <td>71053</td>\n",
       "      <td>WHITE METAL LANTERN</td>\n",
       "      <td>6</td>\n",
       "      <td>29-Nov-16</td>\n",
       "      <td>3.39</td>\n",
       "      <td>United Kingdom</td>\n",
       "      <td>17850.0</td>\n",
       "    </tr>\n",
       "    <tr>\n",
       "      <th>2</th>\n",
       "      <td>536365</td>\n",
       "      <td>84406B</td>\n",
       "      <td>CREAM CUPID HEARTS COAT HANGER</td>\n",
       "      <td>8</td>\n",
       "      <td>29-Nov-16</td>\n",
       "      <td>2.75</td>\n",
       "      <td>United Kingdom</td>\n",
       "      <td>17850.0</td>\n",
       "    </tr>\n",
       "    <tr>\n",
       "      <th>3</th>\n",
       "      <td>536365</td>\n",
       "      <td>84029G</td>\n",
       "      <td>KNITTED UNION FLAG HOT WATER BOTTLE</td>\n",
       "      <td>6</td>\n",
       "      <td>29-Nov-16</td>\n",
       "      <td>3.39</td>\n",
       "      <td>United Kingdom</td>\n",
       "      <td>17850.0</td>\n",
       "    </tr>\n",
       "    <tr>\n",
       "      <th>4</th>\n",
       "      <td>536365</td>\n",
       "      <td>84029E</td>\n",
       "      <td>RED WOOLLY HOTTIE WHITE HEART.</td>\n",
       "      <td>6</td>\n",
       "      <td>29-Nov-16</td>\n",
       "      <td>3.39</td>\n",
       "      <td>United Kingdom</td>\n",
       "      <td>17850.0</td>\n",
       "    </tr>\n",
       "  </tbody>\n",
       "</table>\n",
       "</div>"
      ],
      "text/plain": [
       "  invoice_no stock_code                          description  quantity  \\\n",
       "0     536365     85123A   WHITE HANGING HEART T-LIGHT HOLDER         6   \n",
       "1     536365      71053                  WHITE METAL LANTERN         6   \n",
       "2     536365     84406B       CREAM CUPID HEARTS COAT HANGER         8   \n",
       "3     536365     84029G  KNITTED UNION FLAG HOT WATER BOTTLE         6   \n",
       "4     536365     84029E       RED WOOLLY HOTTIE WHITE HEART.         6   \n",
       "\n",
       "  invoice_date  unit_price         country  customer_id  \n",
       "0    29-Nov-16        2.55  United Kingdom      17850.0  \n",
       "1    29-Nov-16        3.39  United Kingdom      17850.0  \n",
       "2    29-Nov-16        2.75  United Kingdom      17850.0  \n",
       "3    29-Nov-16        3.39  United Kingdom      17850.0  \n",
       "4    29-Nov-16        3.39  United Kingdom      17850.0  "
      ]
     },
     "execution_count": 14,
     "metadata": {},
     "output_type": "execute_result"
    }
   ],
   "source": [
    "#Para não perder os dados, atribuir valores de 'customer_id' para os 'invoice_no' do df com NA's. Usar esses dados para treinar o algoritmo e retira-los ao final da modelagem.\n",
    "#Create reference\n",
    "df_backup = pd.DataFrame(df_missing['invoice_no'].drop_duplicates())\n",
    "df_backup['customer_id'] = np.arange(19000, 19000+len(df_backup), 1)\n",
    "\n",
    "# merge original with reference dataframe\n",
    "df1 = pd.merge(df1, df_backup, on='invoice_no', how='left')\n",
    "\n",
    "#Coalesce\n",
    "## Come foram geradas duas colunas e ambas possuem NA's, será necessário usar artifício para combinar as colunas \n",
    "df1['customer_id'] = df1['customer_id_x'].combine_first(df1['customer_id_y'])\n",
    "\n",
    "#drop extra columns\n",
    "df1 = df1.drop(columns=['customer_id_x', 'customer_id_y'], axis=1)\n",
    "\n",
    "df1.head()"
   ]
  },
  {
   "cell_type": "code",
   "execution_count": 15,
   "id": "60069edf",
   "metadata": {
    "ExecuteTime": {
     "end_time": "2022-08-15T11:55:01.769756Z",
     "start_time": "2022-08-15T11:55:01.397030Z"
    }
   },
   "outputs": [
    {
     "data": {
      "text/plain": [
       "invoice_no         0\n",
       "stock_code         0\n",
       "description     1454\n",
       "quantity           0\n",
       "invoice_date       0\n",
       "unit_price         0\n",
       "country            0\n",
       "customer_id        0\n",
       "dtype: int64"
      ]
     },
     "execution_count": 15,
     "metadata": {},
     "output_type": "execute_result"
    }
   ],
   "source": [
    "df1.isnull().sum()"
   ]
  },
  {
   "cell_type": "markdown",
   "id": "d5975496",
   "metadata": {},
   "source": [
    "## 1.6 Change Dtypes"
   ]
  },
  {
   "cell_type": "code",
   "execution_count": 16,
   "id": "a5ad21ca",
   "metadata": {
    "ExecuteTime": {
     "end_time": "2022-08-15T11:55:01.785843Z",
     "start_time": "2022-08-15T11:55:01.771756Z"
    }
   },
   "outputs": [
    {
     "data": {
      "text/html": [
       "<div>\n",
       "<style scoped>\n",
       "    .dataframe tbody tr th:only-of-type {\n",
       "        vertical-align: middle;\n",
       "    }\n",
       "\n",
       "    .dataframe tbody tr th {\n",
       "        vertical-align: top;\n",
       "    }\n",
       "\n",
       "    .dataframe thead th {\n",
       "        text-align: right;\n",
       "    }\n",
       "</style>\n",
       "<table border=\"1\" class=\"dataframe\">\n",
       "  <thead>\n",
       "    <tr style=\"text-align: right;\">\n",
       "      <th></th>\n",
       "      <th>invoice_no</th>\n",
       "      <th>stock_code</th>\n",
       "      <th>description</th>\n",
       "      <th>quantity</th>\n",
       "      <th>invoice_date</th>\n",
       "      <th>unit_price</th>\n",
       "      <th>country</th>\n",
       "      <th>customer_id</th>\n",
       "    </tr>\n",
       "  </thead>\n",
       "  <tbody>\n",
       "    <tr>\n",
       "      <th>0</th>\n",
       "      <td>536365</td>\n",
       "      <td>85123A</td>\n",
       "      <td>WHITE HANGING HEART T-LIGHT HOLDER</td>\n",
       "      <td>6</td>\n",
       "      <td>29-Nov-16</td>\n",
       "      <td>2.55</td>\n",
       "      <td>United Kingdom</td>\n",
       "      <td>17850.0</td>\n",
       "    </tr>\n",
       "    <tr>\n",
       "      <th>1</th>\n",
       "      <td>536365</td>\n",
       "      <td>71053</td>\n",
       "      <td>WHITE METAL LANTERN</td>\n",
       "      <td>6</td>\n",
       "      <td>29-Nov-16</td>\n",
       "      <td>3.39</td>\n",
       "      <td>United Kingdom</td>\n",
       "      <td>17850.0</td>\n",
       "    </tr>\n",
       "    <tr>\n",
       "      <th>2</th>\n",
       "      <td>536365</td>\n",
       "      <td>84406B</td>\n",
       "      <td>CREAM CUPID HEARTS COAT HANGER</td>\n",
       "      <td>8</td>\n",
       "      <td>29-Nov-16</td>\n",
       "      <td>2.75</td>\n",
       "      <td>United Kingdom</td>\n",
       "      <td>17850.0</td>\n",
       "    </tr>\n",
       "    <tr>\n",
       "      <th>3</th>\n",
       "      <td>536365</td>\n",
       "      <td>84029G</td>\n",
       "      <td>KNITTED UNION FLAG HOT WATER BOTTLE</td>\n",
       "      <td>6</td>\n",
       "      <td>29-Nov-16</td>\n",
       "      <td>3.39</td>\n",
       "      <td>United Kingdom</td>\n",
       "      <td>17850.0</td>\n",
       "    </tr>\n",
       "    <tr>\n",
       "      <th>4</th>\n",
       "      <td>536365</td>\n",
       "      <td>84029E</td>\n",
       "      <td>RED WOOLLY HOTTIE WHITE HEART.</td>\n",
       "      <td>6</td>\n",
       "      <td>29-Nov-16</td>\n",
       "      <td>3.39</td>\n",
       "      <td>United Kingdom</td>\n",
       "      <td>17850.0</td>\n",
       "    </tr>\n",
       "  </tbody>\n",
       "</table>\n",
       "</div>"
      ],
      "text/plain": [
       "  invoice_no stock_code                          description  quantity  \\\n",
       "0     536365     85123A   WHITE HANGING HEART T-LIGHT HOLDER         6   \n",
       "1     536365      71053                  WHITE METAL LANTERN         6   \n",
       "2     536365     84406B       CREAM CUPID HEARTS COAT HANGER         8   \n",
       "3     536365     84029G  KNITTED UNION FLAG HOT WATER BOTTLE         6   \n",
       "4     536365     84029E       RED WOOLLY HOTTIE WHITE HEART.         6   \n",
       "\n",
       "  invoice_date  unit_price         country  customer_id  \n",
       "0    29-Nov-16        2.55  United Kingdom      17850.0  \n",
       "1    29-Nov-16        3.39  United Kingdom      17850.0  \n",
       "2    29-Nov-16        2.75  United Kingdom      17850.0  \n",
       "3    29-Nov-16        3.39  United Kingdom      17850.0  \n",
       "4    29-Nov-16        3.39  United Kingdom      17850.0  "
      ]
     },
     "execution_count": 16,
     "metadata": {},
     "output_type": "execute_result"
    }
   ],
   "source": [
    "df1.head()"
   ]
  },
  {
   "cell_type": "code",
   "execution_count": 17,
   "id": "d0a6810c",
   "metadata": {
    "ExecuteTime": {
     "end_time": "2022-08-15T11:55:01.880437Z",
     "start_time": "2022-08-15T11:55:01.789017Z"
    }
   },
   "outputs": [],
   "source": [
    "#invoice_no e stock_code serão analisados posteriormente\n",
    "\n",
    "#invoice_date\n",
    "df1['invoice_date'] = pd.to_datetime(df1['invoice_date'], format = '%d-%b-%y')\n",
    "\n",
    "#customer_id\n",
    "df1['customer_id'] = df1['customer_id'].astype('int64')"
   ]
  },
  {
   "cell_type": "code",
   "execution_count": 18,
   "id": "0f55f85d",
   "metadata": {
    "ExecuteTime": {
     "end_time": "2022-08-15T11:55:01.896528Z",
     "start_time": "2022-08-15T11:55:01.882437Z"
    }
   },
   "outputs": [
    {
     "data": {
      "text/plain": [
       "invoice_no              object\n",
       "stock_code              object\n",
       "description             object\n",
       "quantity                 int64\n",
       "invoice_date    datetime64[ns]\n",
       "unit_price             float64\n",
       "country                 object\n",
       "customer_id              int64\n",
       "dtype: object"
      ]
     },
     "execution_count": 18,
     "metadata": {},
     "output_type": "execute_result"
    }
   ],
   "source": [
    "df1.dtypes"
   ]
  },
  {
   "cell_type": "markdown",
   "id": "a7d8e1c8",
   "metadata": {},
   "source": [
    "## 1.7 Descriptive Statistics"
   ]
  },
  {
   "cell_type": "code",
   "execution_count": 19,
   "id": "86da072d",
   "metadata": {
    "ExecuteTime": {
     "end_time": "2022-08-15T11:55:01.923528Z",
     "start_time": "2022-08-15T11:55:01.899529Z"
    }
   },
   "outputs": [],
   "source": [
    "num_attributes = df1.select_dtypes(include=['int64', 'float64'])\n",
    "cat_attributes = df1.select_dtypes(exclude=['int64', 'float64', 'datetime64[ns]'])"
   ]
  },
  {
   "cell_type": "markdown",
   "id": "19e4f657",
   "metadata": {},
   "source": [
    "### 1.7.1 Numerical Attributes"
   ]
  },
  {
   "cell_type": "code",
   "execution_count": 20,
   "id": "21d3e27d",
   "metadata": {
    "ExecuteTime": {
     "end_time": "2022-08-15T11:55:02.339513Z",
     "start_time": "2022-08-15T11:55:01.926527Z"
    }
   },
   "outputs": [
    {
     "data": {
      "text/html": [
       "<div>\n",
       "<style scoped>\n",
       "    .dataframe tbody tr th:only-of-type {\n",
       "        vertical-align: middle;\n",
       "    }\n",
       "\n",
       "    .dataframe tbody tr th {\n",
       "        vertical-align: top;\n",
       "    }\n",
       "\n",
       "    .dataframe thead th {\n",
       "        text-align: right;\n",
       "    }\n",
       "</style>\n",
       "<table border=\"1\" class=\"dataframe\">\n",
       "  <thead>\n",
       "    <tr style=\"text-align: right;\">\n",
       "      <th></th>\n",
       "      <th>attributes</th>\n",
       "      <th>min</th>\n",
       "      <th>max</th>\n",
       "      <th>range</th>\n",
       "      <th>mean</th>\n",
       "      <th>median</th>\n",
       "      <th>std</th>\n",
       "      <th>skew</th>\n",
       "      <th>kurtosis</th>\n",
       "    </tr>\n",
       "  </thead>\n",
       "  <tbody>\n",
       "    <tr>\n",
       "      <th>0</th>\n",
       "      <td>quantity</td>\n",
       "      <td>-80995.00</td>\n",
       "      <td>80995.0</td>\n",
       "      <td>161990.00</td>\n",
       "      <td>9.552250</td>\n",
       "      <td>3.00</td>\n",
       "      <td>218.080957</td>\n",
       "      <td>-0.264076</td>\n",
       "      <td>119769.160031</td>\n",
       "    </tr>\n",
       "    <tr>\n",
       "      <th>1</th>\n",
       "      <td>unit_price</td>\n",
       "      <td>-11062.06</td>\n",
       "      <td>38970.0</td>\n",
       "      <td>50032.06</td>\n",
       "      <td>4.611114</td>\n",
       "      <td>2.08</td>\n",
       "      <td>96.759764</td>\n",
       "      <td>186.506972</td>\n",
       "      <td>59005.719097</td>\n",
       "    </tr>\n",
       "    <tr>\n",
       "      <th>2</th>\n",
       "      <td>customer_id</td>\n",
       "      <td>12346.00</td>\n",
       "      <td>22709.0</td>\n",
       "      <td>10363.00</td>\n",
       "      <td>16688.840453</td>\n",
       "      <td>16249.00</td>\n",
       "      <td>2911.408666</td>\n",
       "      <td>0.487449</td>\n",
       "      <td>-0.804287</td>\n",
       "    </tr>\n",
       "  </tbody>\n",
       "</table>\n",
       "</div>"
      ],
      "text/plain": [
       "    attributes       min      max      range          mean    median  \\\n",
       "0     quantity -80995.00  80995.0  161990.00      9.552250      3.00   \n",
       "1   unit_price -11062.06  38970.0   50032.06      4.611114      2.08   \n",
       "2  customer_id  12346.00  22709.0   10363.00  16688.840453  16249.00   \n",
       "\n",
       "           std        skew       kurtosis  \n",
       "0   218.080957   -0.264076  119769.160031  \n",
       "1    96.759764  186.506972   59005.719097  \n",
       "2  2911.408666    0.487449      -0.804287  "
      ]
     },
     "execution_count": 20,
     "metadata": {},
     "output_type": "execute_result"
    }
   ],
   "source": [
    "# Central Tendency - mean, median\n",
    "ct1 = pd.DataFrame(num_attributes.apply(np.mean)).T\n",
    "ct2 = pd.DataFrame(num_attributes.apply(np.median)).T\n",
    "\n",
    "# dispersion - std, min, max, range, skew, kurtosis\n",
    "d1 = pd.DataFrame(num_attributes.apply(np.std)).T\n",
    "d2 = pd.DataFrame(num_attributes.apply(min)).T\n",
    "d3 = pd.DataFrame(num_attributes.apply(max)).T\n",
    "d4 = pd.DataFrame(num_attributes.apply(lambda x: x.max() - x.min())).T\n",
    "d5 = pd.DataFrame(num_attributes.apply(lambda x: x.skew())).T\n",
    "d6 = pd.DataFrame(num_attributes.apply(lambda x: x.kurtosis())).T\n",
    "\n",
    "#Concatenar\n",
    "m1 = pd.concat( [d2, d3, d4, ct1, ct2, d1, d5, d6] ).T.reset_index()\n",
    "m1.columns = ['attributes', 'min', 'max', 'range', 'mean', 'median', 'std', 'skew', 'kurtosis']\n",
    "m1"
   ]
  },
  {
   "cell_type": "markdown",
   "id": "40aa50d0",
   "metadata": {},
   "source": [
    "### 1.7.2 Categorical Attributes"
   ]
  },
  {
   "cell_type": "code",
   "execution_count": 21,
   "id": "92be0a5a",
   "metadata": {
    "ExecuteTime": {
     "end_time": "2022-08-15T11:55:03.229487Z",
     "start_time": "2022-08-15T11:55:02.341514Z"
    }
   },
   "outputs": [
    {
     "name": "stdout",
     "output_type": "stream",
     "text": [
      "Total number of invoices: 9291\n",
      "Total number of negative quantity: 9288\n"
     ]
    }
   ],
   "source": [
    "#invoice_no\n",
    "\n",
    "#cat_attributes['invoice_no'].astype(int) - #Algumas strings entre os números\n",
    "#len(cat_attributes.loc[cat_attributes['invoice_no'].apply(lambda x: bool(re.search( '[^0-9]+', x ))), 'invoice_no'].drop_duplicates())\n",
    "\n",
    "df_invoices = df1.loc[df1['invoice_no'].apply(lambda x: bool(re.search( '[^0-9]+', x ))), :]\n",
    "\n",
    "print('Total number of invoices: {}'.format(len(df_invoices)))\n",
    "print('Total number of negative quantity: {}'.format(len(df_invoices[df_invoices['quantity'] < 0])))"
   ]
  },
  {
   "cell_type": "code",
   "execution_count": 22,
   "id": "3bfc8af9",
   "metadata": {
    "ExecuteTime": {
     "end_time": "2022-08-15T11:55:04.180504Z",
     "start_time": "2022-08-15T11:55:03.231487Z"
    }
   },
   "outputs": [
    {
     "data": {
      "text/plain": [
       "array(['POST', 'D', 'DOT', 'M', 'S', 'AMAZONFEE', 'm', 'DCGSSBOY',\n",
       "       'DCGSSGIRL', 'PADS', 'B', 'CRUK'], dtype=object)"
      ]
     },
     "execution_count": 22,
     "metadata": {},
     "output_type": "execute_result"
    }
   ],
   "source": [
    "#stock_code\n",
    "#aux = len(cat_attributes.loc[cat_attributes['stock_code'].apply(lambda x: bool(re.search( '[^0-9]+', x))), 'stock_code'].drop_duplicates())\n",
    "\n",
    "#cat_attributes.loc[cat_attributes['stock_code'].apply(lambda x: bool(re.search( '^[a-zA-Z]+$', x))), 'stock_code'].unique()\n",
    "#df1.loc[cat_attributes['stock_code'].apply(lambda x: bool(re.search( '^[a-zA-Z]$', x ))), :].head()\n",
    "\n",
    "df1.loc[df1['stock_code'].apply(lambda x: bool(re.search('^[a-zA-Z]+$', x))), 'stock_code'].unique()\n",
    "\n",
    "#Ação:\n",
    "## 1. Remove stock_code in ['POST', 'D', 'DOT', 'M', 'S', 'AMAZONFEE', 'm', 'DCGSSBOY','DCGSSGIRL', 'PADS', 'B', 'CRUK']"
   ]
  },
  {
   "cell_type": "markdown",
   "id": "11fa80ed",
   "metadata": {},
   "source": [
    "### Description"
   ]
  },
  {
   "cell_type": "code",
   "execution_count": 23,
   "id": "47e4b8c6",
   "metadata": {
    "ExecuteTime": {
     "end_time": "2022-08-15T11:55:04.196478Z",
     "start_time": "2022-08-15T11:55:04.182477Z"
    }
   },
   "outputs": [
    {
     "data": {
      "text/html": [
       "<div>\n",
       "<style scoped>\n",
       "    .dataframe tbody tr th:only-of-type {\n",
       "        vertical-align: middle;\n",
       "    }\n",
       "\n",
       "    .dataframe tbody tr th {\n",
       "        vertical-align: top;\n",
       "    }\n",
       "\n",
       "    .dataframe thead th {\n",
       "        text-align: right;\n",
       "    }\n",
       "</style>\n",
       "<table border=\"1\" class=\"dataframe\">\n",
       "  <thead>\n",
       "    <tr style=\"text-align: right;\">\n",
       "      <th></th>\n",
       "      <th>invoice_no</th>\n",
       "      <th>stock_code</th>\n",
       "      <th>description</th>\n",
       "      <th>quantity</th>\n",
       "      <th>invoice_date</th>\n",
       "      <th>unit_price</th>\n",
       "      <th>country</th>\n",
       "      <th>customer_id</th>\n",
       "    </tr>\n",
       "  </thead>\n",
       "  <tbody>\n",
       "    <tr>\n",
       "      <th>0</th>\n",
       "      <td>536365</td>\n",
       "      <td>85123A</td>\n",
       "      <td>WHITE HANGING HEART T-LIGHT HOLDER</td>\n",
       "      <td>6</td>\n",
       "      <td>2016-11-29</td>\n",
       "      <td>2.55</td>\n",
       "      <td>United Kingdom</td>\n",
       "      <td>17850</td>\n",
       "    </tr>\n",
       "    <tr>\n",
       "      <th>1</th>\n",
       "      <td>536365</td>\n",
       "      <td>71053</td>\n",
       "      <td>WHITE METAL LANTERN</td>\n",
       "      <td>6</td>\n",
       "      <td>2016-11-29</td>\n",
       "      <td>3.39</td>\n",
       "      <td>United Kingdom</td>\n",
       "      <td>17850</td>\n",
       "    </tr>\n",
       "    <tr>\n",
       "      <th>2</th>\n",
       "      <td>536365</td>\n",
       "      <td>84406B</td>\n",
       "      <td>CREAM CUPID HEARTS COAT HANGER</td>\n",
       "      <td>8</td>\n",
       "      <td>2016-11-29</td>\n",
       "      <td>2.75</td>\n",
       "      <td>United Kingdom</td>\n",
       "      <td>17850</td>\n",
       "    </tr>\n",
       "    <tr>\n",
       "      <th>3</th>\n",
       "      <td>536365</td>\n",
       "      <td>84029G</td>\n",
       "      <td>KNITTED UNION FLAG HOT WATER BOTTLE</td>\n",
       "      <td>6</td>\n",
       "      <td>2016-11-29</td>\n",
       "      <td>3.39</td>\n",
       "      <td>United Kingdom</td>\n",
       "      <td>17850</td>\n",
       "    </tr>\n",
       "    <tr>\n",
       "      <th>4</th>\n",
       "      <td>536365</td>\n",
       "      <td>84029E</td>\n",
       "      <td>RED WOOLLY HOTTIE WHITE HEART.</td>\n",
       "      <td>6</td>\n",
       "      <td>2016-11-29</td>\n",
       "      <td>3.39</td>\n",
       "      <td>United Kingdom</td>\n",
       "      <td>17850</td>\n",
       "    </tr>\n",
       "  </tbody>\n",
       "</table>\n",
       "</div>"
      ],
      "text/plain": [
       "  invoice_no stock_code                          description  quantity  \\\n",
       "0     536365     85123A   WHITE HANGING HEART T-LIGHT HOLDER         6   \n",
       "1     536365      71053                  WHITE METAL LANTERN         6   \n",
       "2     536365     84406B       CREAM CUPID HEARTS COAT HANGER         8   \n",
       "3     536365     84029G  KNITTED UNION FLAG HOT WATER BOTTLE         6   \n",
       "4     536365     84029E       RED WOOLLY HOTTIE WHITE HEART.         6   \n",
       "\n",
       "  invoice_date  unit_price         country  customer_id  \n",
       "0   2016-11-29        2.55  United Kingdom        17850  \n",
       "1   2016-11-29        3.39  United Kingdom        17850  \n",
       "2   2016-11-29        2.75  United Kingdom        17850  \n",
       "3   2016-11-29        3.39  United Kingdom        17850  \n",
       "4   2016-11-29        3.39  United Kingdom        17850  "
      ]
     },
     "execution_count": 23,
     "metadata": {},
     "output_type": "execute_result"
    }
   ],
   "source": [
    "df1.head()\n",
    "\n",
    "#Ação: Delete description"
   ]
  },
  {
   "cell_type": "markdown",
   "id": "04bb45e5",
   "metadata": {},
   "source": [
    "### Country"
   ]
  },
  {
   "cell_type": "code",
   "execution_count": 24,
   "id": "81d12615",
   "metadata": {
    "ExecuteTime": {
     "end_time": "2022-08-15T11:55:04.244476Z",
     "start_time": "2022-08-15T11:55:04.198477Z"
    }
   },
   "outputs": [
    {
     "data": {
      "text/plain": [
       "array(['United Kingdom', 'France', 'Australia', 'Netherlands', 'Germany',\n",
       "       'Norway', 'EIRE', 'Switzerland', 'Spain', 'Poland', 'Portugal',\n",
       "       'Italy', 'Belgium', 'Lithuania', 'Japan', 'Iceland',\n",
       "       'Channel Islands', 'Denmark', 'Cyprus', 'Sweden', 'Austria',\n",
       "       'Israel', 'Finland', 'Bahrain', 'Greece', 'Hong Kong', 'Singapore',\n",
       "       'Lebanon', 'United Arab Emirates', 'Saudi Arabia',\n",
       "       'Czech Republic', 'Canada', 'Unspecified', 'Brazil', 'USA',\n",
       "       'European Community', 'Malta', 'RSA'], dtype=object)"
      ]
     },
     "execution_count": 24,
     "metadata": {},
     "output_type": "execute_result"
    }
   ],
   "source": [
    "df1['country'].unique()"
   ]
  },
  {
   "cell_type": "code",
   "execution_count": 25,
   "id": "8fa3ea38",
   "metadata": {
    "ExecuteTime": {
     "end_time": "2022-08-15T11:55:04.290474Z",
     "start_time": "2022-08-15T11:55:04.247476Z"
    }
   },
   "outputs": [
    {
     "data": {
      "text/plain": [
       "United Kingdom    0.914320\n",
       "Germany           0.017521\n",
       "France            0.015790\n",
       "EIRE              0.015124\n",
       "Spain             0.004674\n",
       "Name: country, dtype: float64"
      ]
     },
     "execution_count": 25,
     "metadata": {},
     "output_type": "execute_result"
    }
   ],
   "source": [
    "df1['country'].value_counts(normalize=True).head()"
   ]
  },
  {
   "cell_type": "code",
   "execution_count": 26,
   "id": "6e8a08b1",
   "metadata": {
    "ExecuteTime": {
     "end_time": "2022-08-15T11:55:04.385572Z",
     "start_time": "2022-08-15T11:55:04.291474Z"
    }
   },
   "outputs": [
    {
     "data": {
      "text/html": [
       "<div>\n",
       "<style scoped>\n",
       "    .dataframe tbody tr th:only-of-type {\n",
       "        vertical-align: middle;\n",
       "    }\n",
       "\n",
       "    .dataframe tbody tr th {\n",
       "        vertical-align: top;\n",
       "    }\n",
       "\n",
       "    .dataframe thead th {\n",
       "        text-align: right;\n",
       "    }\n",
       "</style>\n",
       "<table border=\"1\" class=\"dataframe\">\n",
       "  <thead>\n",
       "    <tr style=\"text-align: right;\">\n",
       "      <th></th>\n",
       "      <th>country</th>\n",
       "      <th>customer_id</th>\n",
       "    </tr>\n",
       "  </thead>\n",
       "  <tbody>\n",
       "    <tr>\n",
       "      <th>36</th>\n",
       "      <td>United Kingdom</td>\n",
       "      <td>7587</td>\n",
       "    </tr>\n",
       "    <tr>\n",
       "      <th>14</th>\n",
       "      <td>Germany</td>\n",
       "      <td>95</td>\n",
       "    </tr>\n",
       "    <tr>\n",
       "      <th>13</th>\n",
       "      <td>France</td>\n",
       "      <td>90</td>\n",
       "    </tr>\n",
       "    <tr>\n",
       "      <th>10</th>\n",
       "      <td>EIRE</td>\n",
       "      <td>44</td>\n",
       "    </tr>\n",
       "    <tr>\n",
       "      <th>31</th>\n",
       "      <td>Spain</td>\n",
       "      <td>31</td>\n",
       "    </tr>\n",
       "  </tbody>\n",
       "</table>\n",
       "</div>"
      ],
      "text/plain": [
       "           country  customer_id\n",
       "36  United Kingdom         7587\n",
       "14         Germany           95\n",
       "13          France           90\n",
       "10            EIRE           44\n",
       "31           Spain           31"
      ]
     },
     "execution_count": 26,
     "metadata": {},
     "output_type": "execute_result"
    }
   ],
   "source": [
    "#Drop_duplicates é usado quando quero saber o número de usuários únicos. Sem o drop a granularidade é por compra. Ex: 1 usuário pode ter feito 10 compras\n",
    "df1[['customer_id', 'country']].drop_duplicates().groupby('country').count().reset_index().sort_values('customer_id', ascending=False).head()"
   ]
  },
  {
   "cell_type": "markdown",
   "id": "5dc7d627",
   "metadata": {},
   "source": [
    "# 2.0 Filtragem de Variáveis"
   ]
  },
  {
   "cell_type": "markdown",
   "id": "c1174dcb",
   "metadata": {},
   "source": [
    "- Nesse caso a filtragem se fez necessária antes do passo 2 pq no passo 2 são feitos cálculos pra criar as variáveis, logo, n pode haver sujeira. Isso justifica adiantar o passo 3"
   ]
  },
  {
   "cell_type": "code",
   "execution_count": 27,
   "id": "7f896de0",
   "metadata": {
    "ExecuteTime": {
     "end_time": "2022-08-15T11:55:04.415720Z",
     "start_time": "2022-08-15T11:55:04.387586Z"
    }
   },
   "outputs": [],
   "source": [
    "df2 = df1.copy()"
   ]
  },
  {
   "cell_type": "code",
   "execution_count": 28,
   "id": "e50c2165",
   "metadata": {
    "ExecuteTime": {
     "end_time": "2022-08-15T11:55:04.697171Z",
     "start_time": "2022-08-15T11:55:04.417722Z"
    }
   },
   "outputs": [],
   "source": [
    "# Numerical Attributes\n",
    "\n",
    "## Separar entre dados com devoluções e sem devoluções\n",
    "df2 = df2.loc[df2['unit_price'] >= 0.04, :]\n",
    "\n",
    "\n",
    "# -- Categorical Attributes --\n",
    "\n",
    "#isin pq fica mais fácil já que é uma lista | ~ (usado com o isin) pq vou pegar oq não estiver contido na condição\n",
    "df2 = df2[~df2['stock_code'].isin(['POST', 'D', 'DOT', 'M', 'S', 'AMAZONFEE', 'm', 'DCGSSBOY', 'DCGSSGIRL', 'PADS', 'B', 'CRUK'])] \n",
    "\n",
    "#description\n",
    "df2 = df2.drop(columns='description', axis=1)\n",
    "\n",
    "#map \n",
    "df2 = df2[~df2['country'].isin(['European Community', 'Unspecified'])]\n",
    "\n",
    "#bad users\n",
    "df2 = df2[~df2['customer_id'].isin([16446])]\n",
    "\n",
    "#quantity\n",
    "df2_charge_back = df2.loc[df2['quantity'] < 0, :]\n",
    "df2_purchases = df2.loc[df2['quantity'] >= 0, :]\n"
   ]
  },
  {
   "cell_type": "markdown",
   "id": "294bd078",
   "metadata": {},
   "source": [
    "# 3.0 Feature Engeneering"
   ]
  },
  {
   "cell_type": "code",
   "execution_count": 29,
   "id": "c176a581",
   "metadata": {
    "ExecuteTime": {
     "end_time": "2022-08-15T11:55:04.728171Z",
     "start_time": "2022-08-15T11:55:04.699172Z"
    }
   },
   "outputs": [],
   "source": [
    "df3 = df2.copy()"
   ]
  },
  {
   "cell_type": "markdown",
   "id": "9873fbf6",
   "metadata": {},
   "source": [
    "## 3.1 Feature Creation"
   ]
  },
  {
   "cell_type": "code",
   "execution_count": 30,
   "id": "528b574d",
   "metadata": {
    "ExecuteTime": {
     "end_time": "2022-08-15T11:55:04.774184Z",
     "start_time": "2022-08-15T11:55:04.735170Z"
    }
   },
   "outputs": [],
   "source": [
    "# data reference\n",
    "df_ref = df3.drop(['invoice_no', 'stock_code', 'quantity', 'invoice_date',\n",
    "                   'unit_price', 'country'], axis=1).drop_duplicates(ignore_index=True)"
   ]
  },
  {
   "cell_type": "markdown",
   "id": "9dfbcefc",
   "metadata": {},
   "source": [
    "- Ficar atento pq Meiga não usou o purchases pra fazer o df_ref"
   ]
  },
  {
   "cell_type": "markdown",
   "id": "fc5c946e",
   "metadata": {},
   "source": [
    "### 3.1.1 Gross Revenue"
   ]
  },
  {
   "cell_type": "code",
   "execution_count": 31,
   "id": "94b20cf6",
   "metadata": {
    "ExecuteTime": {
     "end_time": "2022-08-15T11:55:04.822084Z",
     "start_time": "2022-08-15T11:55:04.776169Z"
    }
   },
   "outputs": [
    {
     "name": "stderr",
     "output_type": "stream",
     "text": [
      "/tmp/ipykernel_42780/1095068563.py:2: SettingWithCopyWarning: \n",
      "A value is trying to be set on a copy of a slice from a DataFrame.\n",
      "Try using .loc[row_indexer,col_indexer] = value instead\n",
      "\n",
      "See the caveats in the documentation: https://pandas.pydata.org/pandas-docs/stable/user_guide/indexing.html#returning-a-view-versus-a-copy\n",
      "  df2_purchases.loc[:, 'gross_revenue'] = df2_purchases.loc[:, 'quantity'] * df2_purchases.loc[:, 'unit_price']\n"
     ]
    }
   ],
   "source": [
    "#Gross Revenue (Faturamento) quantity * price\n",
    "df2_purchases.loc[:, 'gross_revenue'] = df2_purchases.loc[:, 'quantity'] * df2_purchases.loc[:, 'unit_price']\n",
    "\n",
    "#Monetary\n",
    "df_monetary = df2_purchases.loc[: ,['customer_id', 'gross_revenue']].groupby('customer_id').sum().reset_index()\n",
    "df_ref = pd.merge(df_ref, df_monetary, on='customer_id', how='left')"
   ]
  },
  {
   "cell_type": "markdown",
   "id": "a9fb9b8f",
   "metadata": {},
   "source": [
    "### 3.1.2 Recency"
   ]
  },
  {
   "cell_type": "code",
   "execution_count": 32,
   "id": "ffab0ba9",
   "metadata": {
    "ExecuteTime": {
     "end_time": "2022-08-15T11:55:04.869116Z",
     "start_time": "2022-08-15T11:55:04.824084Z"
    }
   },
   "outputs": [],
   "source": [
    "#Recency - Last day purchase - Como o dataset é antigo, usar como date o último invoice_date\n",
    "df_recency = df2_purchases[['customer_id', 'invoice_date']].groupby('customer_id').max().reset_index() # Agrupa por usuários e pega a data máxima da última compra de cada\n",
    "df_recency['recency_days'] = (df2_purchases['invoice_date'].max() - df_recency['invoice_date']).dt.days\n",
    "df_recency = df_recency[['customer_id', 'recency_days']].copy()\n",
    "df_ref = pd.merge(df_ref, df_recency, on='customer_id', how='left')"
   ]
  },
  {
   "cell_type": "markdown",
   "id": "b2b85743",
   "metadata": {},
   "source": [
    "### 3.1.3 Quantity purchases"
   ]
  },
  {
   "cell_type": "code",
   "execution_count": 33,
   "id": "74c643ac",
   "metadata": {
    "ExecuteTime": {
     "end_time": "2022-08-15T11:55:04.962198Z",
     "start_time": "2022-08-15T11:55:04.871115Z"
    }
   },
   "outputs": [],
   "source": [
    "#Numero de compras no ano\n",
    "df_frequency = df2_purchases[['customer_id', 'invoice_no']].drop_duplicates().groupby('customer_id').count().reset_index().rename(columns={'invoice_no': 'qtd_invoices'})\n",
    "df_ref = pd.merge(df_ref, df_frequency, on='customer_id', how='left')"
   ]
  },
  {
   "cell_type": "markdown",
   "id": "4fca3d3a",
   "metadata": {},
   "source": [
    "### 3.1.4 Quantity of items purchased"
   ]
  },
  {
   "cell_type": "code",
   "execution_count": 34,
   "id": "2f763e4d",
   "metadata": {
    "ExecuteTime": {
     "end_time": "2022-08-15T11:55:05.009058Z",
     "start_time": "2022-08-15T11:55:04.963981Z"
    }
   },
   "outputs": [],
   "source": [
    "#Número de produtos comprados\n",
    "## Com o drop_duplicates os valores de quantity que fossem iguais estavam sendo descartados, gerando incongruência nos dados.\n",
    "#df_frequency = df2_purchases[['customer_id', 'quantity']].drop_duplicates().groupby('customer_id').count().reset_index()\n",
    "\n",
    "df_frequency = df2_purchases[['customer_id','quantity']].groupby('customer_id').sum().reset_index().rename(columns={'quantity': 'qtd_items'})\n",
    "df_ref = pd.merge(df_ref, df_frequency, on='customer_id', how='left')"
   ]
  },
  {
   "cell_type": "markdown",
   "id": "ec1c4b10",
   "metadata": {
    "ExecuteTime": {
     "end_time": "2022-07-29T12:33:38.271881Z",
     "start_time": "2022-07-29T12:33:38.261880Z"
    }
   },
   "source": [
    "### 3.1.4 Quantity type of items purchased"
   ]
  },
  {
   "cell_type": "code",
   "execution_count": 35,
   "id": "96cbcf89",
   "metadata": {
    "ExecuteTime": {
     "end_time": "2022-08-15T11:55:05.120696Z",
     "start_time": "2022-08-15T11:55:05.010639Z"
    }
   },
   "outputs": [],
   "source": [
    "df_frequency = df2_purchases[['customer_id','stock_code']].groupby('customer_id').count().reset_index().rename(columns={'stock_code': 'qtd_products'})\n",
    "df_ref = pd.merge(df_ref, df_frequency, on='customer_id', how='left')"
   ]
  },
  {
   "cell_type": "markdown",
   "id": "8e32285a",
   "metadata": {},
   "source": [
    "### 3.1.5 Average Ticket Value"
   ]
  },
  {
   "cell_type": "code",
   "execution_count": 36,
   "id": "c3c456a1",
   "metadata": {
    "ExecuteTime": {
     "end_time": "2022-08-15T11:55:05.183035Z",
     "start_time": "2022-08-15T11:55:05.123040Z"
    }
   },
   "outputs": [
    {
     "data": {
      "text/plain": [
       "customer_id       0\n",
       "gross_revenue    91\n",
       "recency_days     91\n",
       "qtd_invoices     91\n",
       "qtd_items        91\n",
       "qtd_products     91\n",
       "avg_ticket       91\n",
       "dtype: int64"
      ]
     },
     "execution_count": 36,
     "metadata": {},
     "output_type": "execute_result"
    }
   ],
   "source": [
    "#AVG Ticket\n",
    "df_avg_ticket = df2_purchases[['customer_id', 'gross_revenue']].groupby('customer_id').mean().reset_index().rename(columns={'gross_revenue': 'avg_ticket'})\n",
    "df_ref = pd.merge(df_ref, df_avg_ticket, on='customer_id', how='left') #Sempre calcular os NA's depois do left join\n",
    "df_ref.isnull().sum()"
   ]
  },
  {
   "cell_type": "markdown",
   "id": "e068f64e",
   "metadata": {},
   "source": [
    "### 3.1.6 Average Recency Days"
   ]
  },
  {
   "cell_type": "code",
   "execution_count": 37,
   "id": "f4a2ce33",
   "metadata": {
    "ExecuteTime": {
     "end_time": "2022-08-15T11:55:05.937477Z",
     "start_time": "2022-08-15T11:55:05.185036Z"
    }
   },
   "outputs": [
    {
     "data": {
      "text/plain": [
       "customer_id            0\n",
       "gross_revenue         91\n",
       "recency_days          91\n",
       "qtd_invoices          91\n",
       "qtd_items             91\n",
       "qtd_products          91\n",
       "avg_ticket            91\n",
       "avg_recency_days    2816\n",
       "dtype: int64"
      ]
     },
     "execution_count": 37,
     "metadata": {},
     "output_type": "execute_result"
    }
   ],
   "source": [
    "#Descobrir a diferença de dias entre as datas das compras\n",
    "df_aux = df2[['customer_id', 'invoice_date']].drop_duplicates().sort_values(['customer_id', 'invoice_date'])\n",
    "df_aux['next_customer_id'] = df_aux['customer_id'].shift() # 'shift' desloca a coluna selecionada para 1 linha abaixo\n",
    "df_aux['previous_date'] = df_aux['invoice_date'].shift()\n",
    "\n",
    "#Com as colunas deslocadas, é possível fazer uma subtração na mesma linha\n",
    "df_aux['avg_recency_days'] = df_aux.apply(lambda x: (x['invoice_date'] - x['previous_date']).days if x['customer_id'] == x['next_customer_id'] else np.nan, axis =1) #'axis=1' pra + 2 colun\n",
    "\n",
    "#Dropa as colunas que n vão ser usadas e as linhas que contiverem NA's\n",
    "df_aux = df_aux.drop(['invoice_date', 'next_customer_id', 'previous_date'], axis=1).dropna()\n",
    "\n",
    "#Average recency\n",
    "df_avg_recency_days = df_aux.groupby('customer_id').mean().reset_index()\n",
    "\n",
    "#merge\n",
    "\n",
    "df_ref = pd.merge(df_ref, df_avg_recency_days, on='customer_id', how='left')\n",
    "df_ref.isna().sum()"
   ]
  },
  {
   "cell_type": "markdown",
   "id": "c6ba0cf2",
   "metadata": {},
   "source": [
    "### 3.1.7 Frequency Purchase"
   ]
  },
  {
   "cell_type": "code",
   "execution_count": 38,
   "id": "6c330df3",
   "metadata": {
    "ExecuteTime": {
     "end_time": "2022-08-15T11:55:06.095486Z",
     "start_time": "2022-08-15T11:55:05.939477Z"
    }
   },
   "outputs": [],
   "source": [
    "#Pegar a data máxima, mínima, subtrair e dividir pela quantidade de compras\n",
    "df2_max = df2[['customer_id', 'invoice_date']].drop_duplicates().groupby('customer_id').max().reset_index()\n",
    "df2_min = df2[['customer_id', 'invoice_date']].drop_duplicates().groupby('customer_id').min().reset_index()\n",
    "df2_purchase = df2[['customer_id', 'invoice_date']].drop_duplicates().groupby('customer_id').count().reset_index()\n"
   ]
  },
  {
   "cell_type": "code",
   "execution_count": 39,
   "id": "477f9f93",
   "metadata": {
    "ExecuteTime": {
     "end_time": "2022-08-15T11:55:07.423443Z",
     "start_time": "2022-08-15T11:55:06.097474Z"
    }
   },
   "outputs": [
    {
     "data": {
      "text/plain": [
       "customer_id            0\n",
       "gross_revenue         91\n",
       "recency_days          91\n",
       "qtd_invoices          91\n",
       "qtd_items             91\n",
       "qtd_products          91\n",
       "avg_ticket            91\n",
       "avg_recency_days    2816\n",
       "frequency             91\n",
       "dtype: int64"
      ]
     },
     "execution_count": 39,
     "metadata": {},
     "output_type": "execute_result"
    }
   ],
   "source": [
    "#Função agregate (nome da coluna, coluna que será utilizada, operação nessa coluna)\n",
    "df_aux = (df2_purchases[['customer_id', 'invoice_no', 'invoice_date']].drop_duplicates().groupby('customer_id')\n",
    "                                                                     .agg(max_ = ('invoice_date', 'max'), #Apenas para melhorar a visualização, pois o cálculo é feito em \"days_\"\n",
    "                                                                          min_ = ('invoice_date', 'min'),\n",
    "                                                                          days_= ('invoice_date', lambda x: ((x.max() - x.min()).days) + 1),\n",
    "                                                                          buy_ = ('invoice_no', 'count'))).reset_index()\n",
    "\n",
    "#Calculate Frequency\n",
    "df_aux['frequency'] = df_aux[['buy_', 'days_']].apply( lambda x: x['buy_'] / x['days_'] if x['days_'] != 0 else 0, axis=1)\n",
    "\n",
    "#merge\n",
    "df_ref = pd.merge(df_ref, df_aux[['customer_id', 'frequency']], on='customer_id', how='left')\n",
    "df_ref.isna().sum()"
   ]
  },
  {
   "cell_type": "markdown",
   "id": "09046fef",
   "metadata": {},
   "source": [
    "### 3.1.8 Devoluções"
   ]
  },
  {
   "cell_type": "code",
   "execution_count": 40,
   "id": "f160683c",
   "metadata": {
    "ExecuteTime": {
     "end_time": "2022-08-15T11:55:07.454513Z",
     "start_time": "2022-08-15T11:55:07.426543Z"
    }
   },
   "outputs": [
    {
     "data": {
      "text/plain": [
       "customer_id            0\n",
       "gross_revenue         91\n",
       "recency_days          91\n",
       "qtd_invoices          91\n",
       "qtd_items             91\n",
       "qtd_products          91\n",
       "avg_ticket            91\n",
       "avg_recency_days    2816\n",
       "frequency             91\n",
       "qtd_returns            0\n",
       "dtype: int64"
      ]
     },
     "execution_count": 40,
     "metadata": {},
     "output_type": "execute_result"
    }
   ],
   "source": [
    "df_returns = df2_charge_back[['customer_id', 'quantity']].groupby('customer_id').sum().reset_index().rename(columns={'quantity': 'qtd_returns'})\n",
    "df_returns['qtd_returns'] = df_returns['qtd_returns'] * -1\n",
    "\n",
    "#merge\n",
    "df_ref = pd.merge(df_ref, df_returns, on='customer_id', how='left')\n",
    "\n",
    "#Substituir NA's returns por 0\n",
    "df_ref.loc[df_ref['qtd_returns'].isna(), 'qtd_returns'] = 0\n",
    "#df_ref['qtd_returns'].fillna(0, inplace = True)\n",
    "\n",
    "df_ref.isna().sum()"
   ]
  },
  {
   "cell_type": "markdown",
   "id": "50f8442a",
   "metadata": {},
   "source": [
    "### 3.1.9 Basket Size"
   ]
  },
  {
   "cell_type": "code",
   "execution_count": 41,
   "id": "eaae07f8",
   "metadata": {
    "ExecuteTime": {
     "end_time": "2022-08-15T11:55:07.573449Z",
     "start_time": "2022-08-15T11:55:07.456638Z"
    }
   },
   "outputs": [],
   "source": [
    "#Criação de duas colunas: número de compras e quantidade total de produtos por usuário\n",
    "df_aux = (df2_purchases.loc[:, ['customer_id', 'invoice_no', 'quantity']].groupby('customer_id')\n",
    "                                                                 .agg(n_purchase=('invoice_no', 'nunique'),\n",
    "                                                                      n_products=('quantity', 'sum')).reset_index())\n",
    "\n",
    "#Cálculo da média de itens por compras\n",
    "df_aux['avg_basket_size'] = df_aux['n_products'] / df_aux['n_purchase']\n",
    "\n",
    "#merge\n",
    "df_ref = pd.merge(df_ref, df_aux[['customer_id', 'avg_basket_size']], on='customer_id', how='left')"
   ]
  },
  {
   "cell_type": "markdown",
   "id": "de59ef04",
   "metadata": {},
   "source": [
    "### 3.1.10 Unique Basket Size - Quantidade de produtos distintos por compra"
   ]
  },
  {
   "cell_type": "code",
   "execution_count": 42,
   "id": "a919f8c1",
   "metadata": {
    "ExecuteTime": {
     "end_time": "2022-08-15T11:55:07.836581Z",
     "start_time": "2022-08-15T11:55:07.575440Z"
    }
   },
   "outputs": [],
   "source": [
    "#Criação de duas colunas: número de compras e produtos distintos por usuário\n",
    "df_aux = (df2_purchases.loc[:, ['customer_id', 'invoice_no', 'stock_code']].groupby('customer_id')\n",
    "                                                                 .agg(n_purchases=('invoice_no', 'nunique'),\n",
    "                                                                      n_stock_code=('stock_code', 'nunique')).reset_index())\n",
    "\n",
    "#Cálculo da média de itens distintos por compras\n",
    "df_aux['avg_unique_basket_size'] = df_aux['n_stock_code'] / df_aux['n_purchases']\n",
    "\n",
    "\n",
    "#merge\n",
    "df_ref = pd.merge(df_ref, df_aux[['customer_id', 'avg_unique_basket_size']], on='customer_id', how='left')"
   ]
  },
  {
   "cell_type": "code",
   "execution_count": 43,
   "id": "73535757",
   "metadata": {
    "ExecuteTime": {
     "end_time": "2022-08-15T11:55:07.851715Z",
     "start_time": "2022-08-15T11:55:07.838582Z"
    }
   },
   "outputs": [
    {
     "data": {
      "text/plain": [
       "customer_id                  0\n",
       "gross_revenue               91\n",
       "recency_days                91\n",
       "qtd_invoices                91\n",
       "qtd_items                   91\n",
       "qtd_products                91\n",
       "avg_ticket                  91\n",
       "avg_recency_days          2816\n",
       "frequency                   91\n",
       "qtd_returns                  0\n",
       "avg_basket_size             91\n",
       "avg_unique_basket_size      91\n",
       "dtype: int64"
      ]
     },
     "execution_count": 43,
     "metadata": {},
     "output_type": "execute_result"
    }
   ],
   "source": [
    "df_ref.isna().sum()"
   ]
  },
  {
   "cell_type": "markdown",
   "id": "f0708b22",
   "metadata": {},
   "source": [
    "# 4.0 EDA (Exploratory Data Analysis)"
   ]
  },
  {
   "cell_type": "code",
   "execution_count": 44,
   "id": "4775efb8",
   "metadata": {
    "ExecuteTime": {
     "end_time": "2022-08-15T11:55:07.866944Z",
     "start_time": "2022-08-15T11:55:07.853700Z"
    }
   },
   "outputs": [
    {
     "data": {
      "text/plain": [
       "customer_id               0\n",
       "gross_revenue             0\n",
       "recency_days              0\n",
       "qtd_invoices              0\n",
       "qtd_items                 0\n",
       "qtd_products              0\n",
       "avg_ticket                0\n",
       "avg_recency_days          0\n",
       "frequency                 0\n",
       "qtd_returns               0\n",
       "avg_basket_size           0\n",
       "avg_unique_basket_size    0\n",
       "dtype: int64"
      ]
     },
     "execution_count": 44,
     "metadata": {},
     "output_type": "execute_result"
    }
   ],
   "source": [
    "df4 = df_ref.dropna()\n",
    "df4.isnull().sum()"
   ]
  },
  {
   "cell_type": "markdown",
   "id": "7f0a8e71",
   "metadata": {},
   "source": [
    "## 4.3 Estudo do Espaço"
   ]
  },
  {
   "cell_type": "code",
   "execution_count": 45,
   "id": "89902296",
   "metadata": {
    "ExecuteTime": {
     "end_time": "2022-08-15T11:55:07.882486Z",
     "start_time": "2022-08-15T11:55:07.868944Z"
    }
   },
   "outputs": [],
   "source": [
    "#Selected dataset\n",
    "cols_selected = ['customer_id', 'gross_revenue', 'recency_days', 'qtd_products', 'frequency', 'qtd_returns']\n",
    "df43 = df4[cols_selected].copy()"
   ]
  },
  {
   "cell_type": "code",
   "execution_count": 46,
   "id": "d7faa062",
   "metadata": {
    "ExecuteTime": {
     "end_time": "2022-08-15T11:55:07.912477Z",
     "start_time": "2022-08-15T11:55:07.884468Z"
    }
   },
   "outputs": [],
   "source": [
    "mm = pp.MinMaxScaler()\n",
    "fs = s3fs.S3FileSystem(anon=False, key=AWS_ACCESS_KEY_ID, secret=AWS_SECRET_ACCESS_KEY) #anon - se é anônimo ou n\n",
    "\n",
    "#\n",
    "df43['gross_revenue']          = mm.fit_transform(df43[['gross_revenue']])\n",
    "pickle.dump(mm, open('../src/features/gross_revenue_scaler.pkl', 'wb'))\n",
    "pickle.dump(mm, fs.open('s3://insider-dataset/gross_revenue_scaler.pkl', 'wb'))\n",
    "\n",
    "df43['recency_days']           = mm.fit_transform(df43[['recency_days']])\n",
    "pickle.dump(mm, open('../src/features/recency_days_scaler.pkl', 'wb'))\n",
    "pickle.dump(mm, fs.open('s3://insider-dataset/recency_days_scaler.pkl', 'wb'))\n",
    "\n",
    "df43['qtd_products']           = mm.fit_transform(df43[['qtd_products']])\n",
    "pickle.dump(mm, open('../src/features/qtd_products_scaler.pkl', 'wb'))\n",
    "pickle.dump(mm, fs.open('s3://insider-dataset/qtd_products_scaler.pkl', 'wb'))\n",
    "\n",
    "df43['frequency']              = mm.fit_transform(df43[['frequency']])\n",
    "pickle.dump(mm, open('../src/features/frequency_scaler.pkl', 'wb'))\n",
    "pickle.dump(mm, fs.open('s3://insider-dataset/frequency_scaler.pkl', 'wb'))\n",
    "\n",
    "df43['qtd_returns']            = mm.fit_transform(df43[['qtd_returns']])\n",
    "pickle.dump(mm, open('../src/features/qtd_returns_scaler.pkl', 'wb'))\n",
    "pickle.dump(mm, fs.open('s3://insider-dataset/qtd_returns_scaler.pkl', 'wb'))\n"
   ]
  },
  {
   "cell_type": "markdown",
   "id": "e9d36bbf",
   "metadata": {},
   "source": [
    "### 4.3.4 Tree-Based Embedding"
   ]
  },
  {
   "cell_type": "code",
   "execution_count": 47,
   "id": "08c54e3f",
   "metadata": {
    "ExecuteTime": {
     "end_time": "2022-08-15T11:55:08.881350Z",
     "start_time": "2022-08-15T11:55:07.914463Z"
    }
   },
   "outputs": [],
   "source": [
    "#Como o problema é não supervisionado, usei a variável gross revenue para ser a variável resposta, tendo em vista que pra esse problema de negócio esta variável é a mais importante\n",
    "##Como o problema é de árvore, n é necessário usar os dados com reescala\n",
    "\n",
    "#training dataset\n",
    "X = df43.drop(columns=['customer_id', 'gross_revenue'], axis=1)\n",
    "y = df43['gross_revenue']\n",
    "\n",
    "#model definition\n",
    "rf_model = en.RandomForestRegressor( n_estimators=100, random_state=42)\n",
    "\n",
    "#model training\n",
    "rf_model.fit(X, y)\n",
    "\n",
    "pickle.dump(rf_model, open('../src/models/rf_model.pkl', 'wb'))\n",
    "pickle.dump(rf_model, fs.open('s3://insider-dataset/rf_model.pkl', 'wb'))\n",
    "\n",
    "#Aplicar os dados de treino sobre a árvore treinada com o objetivo de obter as folhas \n",
    "df_leaf = pd.DataFrame(rf_model.apply(X))\n",
    "\n"
   ]
  },
  {
   "cell_type": "code",
   "execution_count": 48,
   "id": "3035d755",
   "metadata": {
    "ExecuteTime": {
     "end_time": "2022-08-15T11:55:25.624092Z",
     "start_time": "2022-08-15T11:55:08.883349Z"
    }
   },
   "outputs": [],
   "source": [
    "#Reduzir dimensionalidade de 100 para 2 e ser possível visualizar \n",
    "reducer = umap.UMAP(random_state=42)\n",
    "embedding = reducer.fit_transform(df_leaf)\n",
    "\n",
    "pickle.dump(reducer, open('../src/features/umap_reducer.pkl', 'wb'))\n",
    "pickle.dump(reducer, fs.open('s3://insider-dataset/umap_reducer.pkl', 'wb'))\n",
    "\n",
    "#embedding\n",
    "df_tree = pd.DataFrame()\n",
    "df_tree['embedding_x'] = embedding[:, 0]\n",
    "df_tree['embedding_y'] = embedding[:, 1]"
   ]
  },
  {
   "cell_type": "markdown",
   "id": "f03e750f",
   "metadata": {},
   "source": [
    "# 7.0 Hyperparameter Fine-Tunning"
   ]
  },
  {
   "cell_type": "code",
   "execution_count": 47,
   "id": "df90ae3e",
   "metadata": {
    "ExecuteTime": {
     "end_time": "2022-08-15T11:55:25.639337Z",
     "start_time": "2022-08-15T11:55:25.626081Z"
    }
   },
   "outputs": [],
   "source": [
    "X = df_tree.copy()"
   ]
  },
  {
   "cell_type": "code",
   "execution_count": 48,
   "id": "4a1c2013",
   "metadata": {
    "ExecuteTime": {
     "end_time": "2022-08-15T11:55:25.655336Z",
     "start_time": "2022-08-15T11:55:25.642337Z"
    }
   },
   "outputs": [
    {
     "data": {
      "text/html": [
       "<div>\n",
       "<style scoped>\n",
       "    .dataframe tbody tr th:only-of-type {\n",
       "        vertical-align: middle;\n",
       "    }\n",
       "\n",
       "    .dataframe tbody tr th {\n",
       "        vertical-align: top;\n",
       "    }\n",
       "\n",
       "    .dataframe thead th {\n",
       "        text-align: right;\n",
       "    }\n",
       "</style>\n",
       "<table border=\"1\" class=\"dataframe\">\n",
       "  <thead>\n",
       "    <tr style=\"text-align: right;\">\n",
       "      <th></th>\n",
       "      <th>embedding_x</th>\n",
       "      <th>embedding_y</th>\n",
       "    </tr>\n",
       "  </thead>\n",
       "  <tbody>\n",
       "    <tr>\n",
       "      <th>0</th>\n",
       "      <td>10.918785</td>\n",
       "      <td>14.602229</td>\n",
       "    </tr>\n",
       "    <tr>\n",
       "      <th>1</th>\n",
       "      <td>19.531637</td>\n",
       "      <td>8.913908</td>\n",
       "    </tr>\n",
       "    <tr>\n",
       "      <th>2</th>\n",
       "      <td>11.945412</td>\n",
       "      <td>14.611155</td>\n",
       "    </tr>\n",
       "    <tr>\n",
       "      <th>3</th>\n",
       "      <td>0.142954</td>\n",
       "      <td>2.149642</td>\n",
       "    </tr>\n",
       "    <tr>\n",
       "      <th>4</th>\n",
       "      <td>-6.805303</td>\n",
       "      <td>9.022922</td>\n",
       "    </tr>\n",
       "  </tbody>\n",
       "</table>\n",
       "</div>"
      ],
      "text/plain": [
       "   embedding_x  embedding_y\n",
       "0    10.918785    14.602229\n",
       "1    19.531637     8.913908\n",
       "2    11.945412    14.611155\n",
       "3     0.142954     2.149642\n",
       "4    -6.805303     9.022922"
      ]
     },
     "execution_count": 48,
     "metadata": {},
     "output_type": "execute_result"
    }
   ],
   "source": [
    "X.head()"
   ]
  },
  {
   "cell_type": "markdown",
   "id": "8c4fbd2c",
   "metadata": {},
   "source": [
    "# 8.0 Model Training"
   ]
  },
  {
   "cell_type": "markdown",
   "id": "57ea5d0c",
   "metadata": {
    "ExecuteTime": {
     "end_time": "2022-07-22T12:49:05.551773Z",
     "start_time": "2022-07-22T12:49:05.544762Z"
    }
   },
   "source": [
    "## 8.1 K-Means"
   ]
  },
  {
   "cell_type": "code",
   "execution_count": 62,
   "id": "50b4ffbb",
   "metadata": {
    "ExecuteTime": {
     "end_time": "2022-08-15T14:59:42.478741Z",
     "start_time": "2022-08-15T14:59:37.142907Z"
    }
   },
   "outputs": [],
   "source": [
    "#model definition\n",
    "k=8\n",
    "\n",
    "#model definition\n",
    "gmm_model = mx.GaussianMixture(n_components=k, n_init=300, random_state=32) \n",
    "\n",
    "#model training\n",
    "gmm_model.fit(X)\n",
    "\n",
    "#model predict\n",
    "labels = gmm_model.predict(X)\n"
   ]
  },
  {
   "cell_type": "markdown",
   "id": "cfa42906",
   "metadata": {},
   "source": [
    "### 8.2 Cluster Validation"
   ]
  },
  {
   "cell_type": "code",
   "execution_count": 63,
   "id": "9ed6e302",
   "metadata": {
    "ExecuteTime": {
     "end_time": "2022-08-15T14:59:42.665751Z",
     "start_time": "2022-08-15T14:59:42.480740Z"
    }
   },
   "outputs": [
    {
     "name": "stdout",
     "output_type": "stream",
     "text": [
      "0.51884824\n"
     ]
    }
   ],
   "source": [
    "#WSS\n",
    "#print('WSS value: {}'.format(kmeans.inertia_))\n",
    "\n",
    "#SS\n",
    "print(m.silhouette_score(X, labels, metric='euclidean'))"
   ]
  },
  {
   "cell_type": "markdown",
   "id": "bef15736",
   "metadata": {},
   "source": [
    "# 9.0 Cluster Analysis"
   ]
  },
  {
   "cell_type": "code",
   "execution_count": 64,
   "id": "b9a739fc",
   "metadata": {
    "ExecuteTime": {
     "end_time": "2022-08-15T14:59:42.680734Z",
     "start_time": "2022-08-15T14:59:42.667751Z"
    }
   },
   "outputs": [],
   "source": [
    "df92 = df4[cols_selected].copy()\n",
    "df92['cluster'] = labels\n",
    "\n",
    "#change types\n",
    "df92['recency_days'] = df92['recency_days'].astype('int64')\n",
    "df92['qtd_products'] = df92['qtd_products'].astype('int64')\n",
    "df92['qtd_returns'] = df92['qtd_returns'].astype('int64')\n"
   ]
  },
  {
   "cell_type": "code",
   "execution_count": 65,
   "id": "172bf94a",
   "metadata": {
    "ExecuteTime": {
     "end_time": "2022-08-15T14:59:42.696735Z",
     "start_time": "2022-08-15T14:59:42.683735Z"
    }
   },
   "outputs": [
    {
     "data": {
      "text/html": [
       "<div>\n",
       "<style scoped>\n",
       "    .dataframe tbody tr th:only-of-type {\n",
       "        vertical-align: middle;\n",
       "    }\n",
       "\n",
       "    .dataframe tbody tr th {\n",
       "        vertical-align: top;\n",
       "    }\n",
       "\n",
       "    .dataframe thead th {\n",
       "        text-align: right;\n",
       "    }\n",
       "</style>\n",
       "<table border=\"1\" class=\"dataframe\">\n",
       "  <thead>\n",
       "    <tr style=\"text-align: right;\">\n",
       "      <th></th>\n",
       "      <th>customer_id</th>\n",
       "      <th>gross_revenue</th>\n",
       "      <th>recency_days</th>\n",
       "      <th>qtd_products</th>\n",
       "      <th>frequency</th>\n",
       "      <th>qtd_returns</th>\n",
       "      <th>cluster</th>\n",
       "    </tr>\n",
       "  </thead>\n",
       "  <tbody>\n",
       "    <tr>\n",
       "      <th>0</th>\n",
       "      <td>17850</td>\n",
       "      <td>5391.21</td>\n",
       "      <td>372</td>\n",
       "      <td>297</td>\n",
       "      <td>17.000000</td>\n",
       "      <td>40</td>\n",
       "      <td>6</td>\n",
       "    </tr>\n",
       "    <tr>\n",
       "      <th>1</th>\n",
       "      <td>13047</td>\n",
       "      <td>3232.59</td>\n",
       "      <td>56</td>\n",
       "      <td>171</td>\n",
       "      <td>0.028302</td>\n",
       "      <td>35</td>\n",
       "      <td>3</td>\n",
       "    </tr>\n",
       "    <tr>\n",
       "      <th>2</th>\n",
       "      <td>12583</td>\n",
       "      <td>6705.38</td>\n",
       "      <td>2</td>\n",
       "      <td>232</td>\n",
       "      <td>0.040323</td>\n",
       "      <td>50</td>\n",
       "      <td>6</td>\n",
       "    </tr>\n",
       "    <tr>\n",
       "      <th>3</th>\n",
       "      <td>13748</td>\n",
       "      <td>948.25</td>\n",
       "      <td>95</td>\n",
       "      <td>28</td>\n",
       "      <td>0.017921</td>\n",
       "      <td>0</td>\n",
       "      <td>3</td>\n",
       "    </tr>\n",
       "    <tr>\n",
       "      <th>4</th>\n",
       "      <td>15100</td>\n",
       "      <td>876.00</td>\n",
       "      <td>333</td>\n",
       "      <td>3</td>\n",
       "      <td>0.073171</td>\n",
       "      <td>22</td>\n",
       "      <td>7</td>\n",
       "    </tr>\n",
       "  </tbody>\n",
       "</table>\n",
       "</div>"
      ],
      "text/plain": [
       "   customer_id  gross_revenue  recency_days  qtd_products  frequency  \\\n",
       "0        17850        5391.21           372           297  17.000000   \n",
       "1        13047        3232.59            56           171   0.028302   \n",
       "2        12583        6705.38             2           232   0.040323   \n",
       "3        13748         948.25            95            28   0.017921   \n",
       "4        15100         876.00           333             3   0.073171   \n",
       "\n",
       "   qtd_returns  cluster  \n",
       "0           40        6  \n",
       "1           35        3  \n",
       "2           50        6  \n",
       "3            0        3  \n",
       "4           22        7  "
      ]
     },
     "execution_count": 65,
     "metadata": {},
     "output_type": "execute_result"
    }
   ],
   "source": [
    "df92.head()"
   ]
  },
  {
   "cell_type": "code",
   "execution_count": 66,
   "id": "a394118e",
   "metadata": {
    "ExecuteTime": {
     "end_time": "2022-08-15T14:59:42.744737Z",
     "start_time": "2022-08-15T14:59:42.698735Z"
    },
    "code_folding": []
   },
   "outputs": [
    {
     "data": {
      "text/html": [
       "<div>\n",
       "<style scoped>\n",
       "    .dataframe tbody tr th:only-of-type {\n",
       "        vertical-align: middle;\n",
       "    }\n",
       "\n",
       "    .dataframe tbody tr th {\n",
       "        vertical-align: top;\n",
       "    }\n",
       "\n",
       "    .dataframe thead th {\n",
       "        text-align: right;\n",
       "    }\n",
       "</style>\n",
       "<table border=\"1\" class=\"dataframe\">\n",
       "  <thead>\n",
       "    <tr style=\"text-align: right;\">\n",
       "      <th></th>\n",
       "      <th>cluster</th>\n",
       "      <th>customer_id</th>\n",
       "      <th>perc_customer</th>\n",
       "      <th>gross_revenue</th>\n",
       "      <th>recency_days</th>\n",
       "      <th>qtd_products</th>\n",
       "      <th>frequency</th>\n",
       "      <th>qtd_returns</th>\n",
       "    </tr>\n",
       "  </thead>\n",
       "  <tbody>\n",
       "    <tr>\n",
       "      <th>6</th>\n",
       "      <td>6</td>\n",
       "      <td>373</td>\n",
       "      <td>12.567385</td>\n",
       "      <td>10503.060483</td>\n",
       "      <td>19.268097</td>\n",
       "      <td>475.581769</td>\n",
       "      <td>0.110615</td>\n",
       "      <td>187.120643</td>\n",
       "    </tr>\n",
       "    <tr>\n",
       "      <th>5</th>\n",
       "      <td>5</td>\n",
       "      <td>95</td>\n",
       "      <td>3.200809</td>\n",
       "      <td>2291.266000</td>\n",
       "      <td>29.957895</td>\n",
       "      <td>222.136842</td>\n",
       "      <td>0.031576</td>\n",
       "      <td>0.663158</td>\n",
       "    </tr>\n",
       "    <tr>\n",
       "      <th>4</th>\n",
       "      <td>4</td>\n",
       "      <td>349</td>\n",
       "      <td>11.758760</td>\n",
       "      <td>2216.344413</td>\n",
       "      <td>69.501433</td>\n",
       "      <td>52.896848</td>\n",
       "      <td>0.072810</td>\n",
       "      <td>11.028653</td>\n",
       "    </tr>\n",
       "    <tr>\n",
       "      <th>3</th>\n",
       "      <td>3</td>\n",
       "      <td>592</td>\n",
       "      <td>19.946092</td>\n",
       "      <td>2083.700878</td>\n",
       "      <td>51.005068</td>\n",
       "      <td>109.479730</td>\n",
       "      <td>0.077666</td>\n",
       "      <td>19.861486</td>\n",
       "    </tr>\n",
       "    <tr>\n",
       "      <th>1</th>\n",
       "      <td>1</td>\n",
       "      <td>488</td>\n",
       "      <td>16.442049</td>\n",
       "      <td>1861.938012</td>\n",
       "      <td>58.532787</td>\n",
       "      <td>95.969262</td>\n",
       "      <td>0.054101</td>\n",
       "      <td>15.159836</td>\n",
       "    </tr>\n",
       "    <tr>\n",
       "      <th>0</th>\n",
       "      <td>0</td>\n",
       "      <td>479</td>\n",
       "      <td>16.138814</td>\n",
       "      <td>1284.840418</td>\n",
       "      <td>62.194154</td>\n",
       "      <td>57.154489</td>\n",
       "      <td>0.048812</td>\n",
       "      <td>14.225470</td>\n",
       "    </tr>\n",
       "    <tr>\n",
       "      <th>2</th>\n",
       "      <td>2</td>\n",
       "      <td>200</td>\n",
       "      <td>6.738544</td>\n",
       "      <td>647.933500</td>\n",
       "      <td>47.280000</td>\n",
       "      <td>11.510000</td>\n",
       "      <td>0.025991</td>\n",
       "      <td>0.845000</td>\n",
       "    </tr>\n",
       "    <tr>\n",
       "      <th>7</th>\n",
       "      <td>7</td>\n",
       "      <td>392</td>\n",
       "      <td>13.207547</td>\n",
       "      <td>505.728827</td>\n",
       "      <td>149.426020</td>\n",
       "      <td>15.522959</td>\n",
       "      <td>0.426596</td>\n",
       "      <td>9.443878</td>\n",
       "    </tr>\n",
       "  </tbody>\n",
       "</table>\n",
       "</div>"
      ],
      "text/plain": [
       "   cluster  customer_id  perc_customer  gross_revenue  recency_days  \\\n",
       "6        6          373      12.567385   10503.060483     19.268097   \n",
       "5        5           95       3.200809    2291.266000     29.957895   \n",
       "4        4          349      11.758760    2216.344413     69.501433   \n",
       "3        3          592      19.946092    2083.700878     51.005068   \n",
       "1        1          488      16.442049    1861.938012     58.532787   \n",
       "0        0          479      16.138814    1284.840418     62.194154   \n",
       "2        2          200       6.738544     647.933500     47.280000   \n",
       "7        7          392      13.207547     505.728827    149.426020   \n",
       "\n",
       "   qtd_products  frequency  qtd_returns  \n",
       "6    475.581769   0.110615   187.120643  \n",
       "5    222.136842   0.031576     0.663158  \n",
       "4     52.896848   0.072810    11.028653  \n",
       "3    109.479730   0.077666    19.861486  \n",
       "1     95.969262   0.054101    15.159836  \n",
       "0     57.154489   0.048812    14.225470  \n",
       "2     11.510000   0.025991     0.845000  \n",
       "7     15.522959   0.426596     9.443878  "
      ]
     },
     "execution_count": 66,
     "metadata": {},
     "output_type": "execute_result"
    }
   ],
   "source": [
    "# Number of customer\n",
    "df_cluster = df92[['customer_id', 'cluster']].groupby('cluster').count().reset_index()\n",
    "df_cluster['perc_customer'] = 100 * (df_cluster['customer_id'] / df_cluster['customer_id'].sum())\n",
    "\n",
    "#AVG Gross revenue\n",
    "df_avg_gross_revenue = df92[['gross_revenue', 'cluster']].groupby('cluster').mean().reset_index()\n",
    "df_cluster = pd.merge(df_cluster, df_avg_gross_revenue, how='inner', on='cluster')\n",
    "\n",
    "#AVG Recency\n",
    "df_avg_recency = df92[['recency_days', 'cluster']].groupby('cluster').mean().reset_index()\n",
    "df_cluster = pd.merge(df_cluster, df_avg_recency, how='inner', on='cluster')\n",
    "\n",
    "#AVG Frequency\n",
    "df_avg_qtd_products = df92[['qtd_products', 'cluster']].groupby('cluster').mean().reset_index()\n",
    "df_cluster = pd.merge(df_cluster, df_avg_qtd_products, how='inner', on='cluster')\n",
    "\n",
    "#AVG Frequency\n",
    "df_avg_frequency = df92[['frequency', 'cluster']].groupby('cluster').mean().reset_index()\n",
    "df_cluster = pd.merge(df_cluster, df_avg_frequency, how='inner', on='cluster')\n",
    "\n",
    "#Returns\n",
    "df_avg_qtd_returns = df92[['qtd_returns', 'cluster']].groupby('cluster').mean().reset_index()\n",
    "df_cluster = pd.merge(df_cluster, df_avg_qtd_returns, how='inner', on='cluster')\n",
    "\n",
    "df_cluster.sort_values('gross_revenue', ascending=False)"
   ]
  },
  {
   "cell_type": "markdown",
   "id": "d2a46d1c",
   "metadata": {},
   "source": [
    "### Cluster 01: (Candidato à Insider)\n",
    "    - Número de customers: 6 (0.2% dos customers)\n",
    "    - Recência em média: 7 dias\n",
    "    - Compras em média: 89 compras\n",
    "    - Receita em média: $182.182,00 dólares\n",
    "        \n",
    "### Cluster 02: \n",
    "    - Número de customers: 31 (0.8% dos customers)\n",
    "    - Recência em média: 14 dias\n",
    "    - Compras em média:53 compras\n",
    "    - Receita em média: $40.543,52 dólares\n",
    "        \n",
    "### Cluster 03: \n",
    "    - Número de customers: 4.335 (99% dos customers)\n",
    "    - Recência em média: 92 dias\n",
    "    - Compras em média:5 compras\n",
    "    - Receita em média: $1.372,57 dólares"
   ]
  },
  {
   "cell_type": "markdown",
   "id": "8359d266",
   "metadata": {},
   "source": [
    "# 11.0 Deploy To Production"
   ]
  },
  {
   "cell_type": "code",
   "execution_count": 53,
   "id": "27a61184",
   "metadata": {
    "ExecuteTime": {
     "end_time": "2022-08-15T11:55:31.067028Z",
     "start_time": "2022-08-15T11:55:31.054004Z"
    }
   },
   "outputs": [
    {
     "data": {
      "text/plain": [
       "customer_id        int64\n",
       "gross_revenue    float64\n",
       "recency_days       int64\n",
       "qtd_products       int64\n",
       "frequency        float64\n",
       "qtd_returns        int64\n",
       "cluster            int64\n",
       "dtype: object"
      ]
     },
     "execution_count": 53,
     "metadata": {},
     "output_type": "execute_result"
    }
   ],
   "source": [
    "df92.dtypes"
   ]
  },
  {
   "cell_type": "markdown",
   "id": "cf448f95",
   "metadata": {},
   "source": [
    "## 11.1 Insert into SQLITE"
   ]
  },
  {
   "cell_type": "code",
   "execution_count": 54,
   "id": "0fe5c462",
   "metadata": {
    "ExecuteTime": {
     "end_time": "2022-08-15T11:55:31.470417Z",
     "start_time": "2022-08-15T11:55:31.069086Z"
    }
   },
   "outputs": [],
   "source": [
    "import sqlite3\n",
    "from sqlalchemy import create_engine"
   ]
  },
  {
   "cell_type": "code",
   "execution_count": 55,
   "id": "574643b0",
   "metadata": {
    "ExecuteTime": {
     "end_time": "2022-08-15T11:55:31.982714Z",
     "start_time": "2022-08-15T11:55:31.472121Z"
    }
   },
   "outputs": [
    {
     "ename": "OperationalError",
     "evalue": "table insiders already exists",
     "output_type": "error",
     "traceback": [
      "\u001b[1;31m---------------------------------------------------------------------------\u001b[0m",
      "\u001b[1;31mOperationalError\u001b[0m                          Traceback (most recent call last)",
      "Input \u001b[1;32mIn [55]\u001b[0m, in \u001b[0;36m<cell line: 16>\u001b[1;34m()\u001b[0m\n\u001b[0;32m      2\u001b[0m query_create_table_insiders \u001b[38;5;241m=\u001b[39m \u001b[38;5;124m\"\"\"\u001b[39m\n\u001b[0;32m      3\u001b[0m \u001b[38;5;124m    CREATE TABLE insiders (\u001b[39m\n\u001b[0;32m      4\u001b[0m \u001b[38;5;124m        customer_id     INTEGER,\u001b[39m\n\u001b[1;32m   (...)\u001b[0m\n\u001b[0;32m     12\u001b[0m \n\u001b[0;32m     13\u001b[0m \u001b[38;5;124m\"\"\"\u001b[39m\n\u001b[0;32m     15\u001b[0m conn \u001b[38;5;241m=\u001b[39m sqlite3\u001b[38;5;241m.\u001b[39mconnect(\u001b[38;5;124m'\u001b[39m\u001b[38;5;124minsiders_db.sqlite\u001b[39m\u001b[38;5;124m'\u001b[39m)\n\u001b[1;32m---> 16\u001b[0m \u001b[43mconn\u001b[49m\u001b[38;5;241;43m.\u001b[39;49m\u001b[43mexecute\u001b[49m\u001b[43m(\u001b[49m\u001b[43mquery_create_table_insiders\u001b[49m\u001b[43m)\u001b[49m\n\u001b[0;32m     17\u001b[0m conn\u001b[38;5;241m.\u001b[39mcommit()\n\u001b[0;32m     18\u001b[0m conn\u001b[38;5;241m.\u001b[39mclose()\n",
      "\u001b[1;31mOperationalError\u001b[0m: table insiders already exists"
     ]
    }
   ],
   "source": [
    "#create table\n",
    "query_create_table_insiders = \"\"\"\n",
    "    CREATE TABLE insiders (\n",
    "        customer_id     INTEGER,\n",
    "        gross_revenue   REAL,\n",
    "        recency_days    INTEGER,\n",
    "        qtd_products    INTEGER,\n",
    "        frequency       REAL,\n",
    "        qtd_returns     INTEGER,\n",
    "        cluster         INTEGER  \n",
    "    )\n",
    "\n",
    "\"\"\"\n",
    "\n",
    "conn = sqlite3.connect('insiders_db.sqlite')\n",
    "conn.execute(query_create_table_insiders)\n",
    "conn.commit()\n",
    "conn.close()\n",
    "\n",
    "#insert data\n",
    "conn = create_engine('sqlite:///insiders_db.sqlite') #Conexão com o banco de dados\n",
    "df92.to_sql('insiders', con=conn, if_exists='append', index=False)"
   ]
  },
  {
   "cell_type": "code",
   "execution_count": null,
   "id": "7a538e09",
   "metadata": {
    "ExecuteTime": {
     "end_time": "2022-08-15T11:55:31.984687Z",
     "start_time": "2022-08-15T11:55:31.984687Z"
    }
   },
   "outputs": [],
   "source": [
    "#consulting database\n",
    "query = \"\"\"\n",
    "    SELECT * FROM insiders\n",
    "\"\"\"\n",
    "\n",
    "df = pd.read_sql_query(query, conn)"
   ]
  },
  {
   "cell_type": "code",
   "execution_count": null,
   "id": "34f6175f",
   "metadata": {
    "ExecuteTime": {
     "end_time": "2022-08-15T11:55:31.986786Z",
     "start_time": "2022-08-15T11:55:31.986786Z"
    }
   },
   "outputs": [],
   "source": [
    "df.head()"
   ]
  },
  {
   "cell_type": "code",
   "execution_count": null,
   "id": "7f9701e7",
   "metadata": {
    "ExecuteTime": {
     "end_time": "2022-08-15T11:55:31.988771Z",
     "start_time": "2022-08-15T11:55:31.988771Z"
    }
   },
   "outputs": [],
   "source": [
    "df.shape"
   ]
  },
  {
   "cell_type": "code",
   "execution_count": null,
   "id": "777f11ba",
   "metadata": {},
   "outputs": [],
   "source": []
  }
 ],
 "metadata": {
  "kernelspec": {
   "display_name": "Python 3 (ipykernel)",
   "language": "python",
   "name": "python3"
  },
  "language_info": {
   "codemirror_mode": {
    "name": "ipython",
    "version": 3
   },
   "file_extension": ".py",
   "mimetype": "text/x-python",
   "name": "python",
   "nbconvert_exporter": "python",
   "pygments_lexer": "ipython3",
   "version": "3.9.12"
  }
 },
 "nbformat": 4,
 "nbformat_minor": 5
}

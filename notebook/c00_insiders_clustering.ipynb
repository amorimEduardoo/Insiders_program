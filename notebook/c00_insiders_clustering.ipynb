{
 "cells": [
  {
   "cell_type": "markdown",
   "id": "58e77a49",
   "metadata": {},
   "source": [
    "# PA005: High Value Customer Identification (Insiders)"
   ]
  },
  {
   "cell_type": "markdown",
   "id": "76e0214a",
   "metadata": {},
   "source": [
    "## 0.0 Planejamento da solução (IOT)"
   ]
  },
  {
   "cell_type": "markdown",
   "id": "b4f57db6",
   "metadata": {},
   "source": [
    "### Input - Entrada"
   ]
  },
  {
   "cell_type": "markdown",
   "id": "b756a6e0",
   "metadata": {},
   "source": [
    "1. Problema de Negócio\n",
    "    - Selecionar os clientes mais valiosos para integrar um programa de fidelização\n",
    "\n",
    "2. Conjunto de dados\n",
    "    - Vendas de um e-commerce durante o perído de um ano."
   ]
  },
  {
   "cell_type": "markdown",
   "id": "7ee56afd",
   "metadata": {},
   "source": [
    "### Output - Saída"
   ]
  },
  {
   "cell_type": "markdown",
   "id": "cdc2d4e0",
   "metadata": {},
   "source": [
    "1. A indicação das pessoas que farão parte do programa de Insiders\n",
    "    - Lista: client_id | is_insider\n",
    "                2930   |   yes/1\n",
    "                3492   |   no/1\n",
    "\n",
    "2. Relatório com as respostas das perguntas de negócio\n",
    "    - Quem são as pessoas elegíveis para participar do programa de Insiders ?\n",
    "    - Quantos clientes farão parte do grupo?\n",
    "    - Quais as principais características desses clientes ?\n",
    "    - Qual a porcentagem de contribuição do faturamento, vinda do Insiders ?\n",
    "    - Qual a expectativa de faturamento desse grupo para os próximos meses ?\n",
    "    - Quais as condições para uma pessoa ser elegível ao Insiders ?\n",
    "    - Quais as condições para uma pessoa ser removida do Insiders ?\n",
    "    - Qual a garantia que o programa Insiders é melhor que o restante da base ?\n",
    "    - Quais ações o time de marketing pode realizar para aumentar o faturamento?\n",
    "                "
   ]
  },
  {
   "cell_type": "markdown",
   "id": "75cd0f0a",
   "metadata": {},
   "source": [
    "### Task - Tarefas"
   ]
  },
  {
   "cell_type": "markdown",
   "id": "c68948b1",
   "metadata": {},
   "source": [
    "1. Quem são as pessoas elegíveis para participar do programa de Insiders ?\n",
    "    - O que é ser elegível? O que são clientes de maior \"valor\"?\n",
    "    - Faturamento:\n",
    "        - Alto Ticket médio. (média dos gastos na empresa)\n",
    "        - Alto LTV. (Total gasto na empresa)\n",
    "        - Baixa Recência. (intervalo entre as compras)\n",
    "        - Alto basket size. (itens comprados de 1 vez) - Talvez seja redundante em relação às outras métricas\n",
    "        - Baixa probabilidade de Churn. (chance de deixar de consumir produtos da empresa) -  Comum rodar um modelo de churn e           usar o resultado como coluna na clusterização\n",
    "        - Alta previsão de LTV.\n",
    "        - Alta propensão de compra.\n",
    "        \n",
    "    - Custo:\n",
    "        - Baixa taxa de devolução.\n",
    "        \n",
    "    - Experiência:\n",
    "        - Média alta das avaliações.\n",
    "        \n",
    "    \n",
    "2. Quantos clientes farão parte do grupo?\n",
    "    - Número total de clientes\n",
    "    - % do grupo Insiders\n",
    "    \n",
    "\n",
    "3. Quais as principais características desses clientes?\n",
    "    - Escrever características do cliente: \n",
    "        - Idade\n",
    "        - Localização\n",
    "        \n",
    "    - Escrever características do consumo.\n",
    "        - Atributos da clusterização. \n",
    "        \n",
    "\n",
    "4. Qual a porcentagem de contribuição do faturamento, vinda do Insiders?\n",
    "    - Faturamento total do ano\n",
    "    - Faturamento do grupo Insiders\n",
    "    \n",
    "\n",
    "5. Qual a expectativa de faturamento desse grupo para os próximos meses? (Ex: Assumir essa métrica no planejamento do orçamento da empresa)\n",
    "    - LTV do grupo Insiders\n",
    "    - Análise de Cohort. (Marcação em relação a algo e acompanhamento do desempenho)\n",
    "    \n",
    "\n",
    "6. Quais as condições para uma pessoa ser elegível ao Insiders?\n",
    "    - Definir a periodicidade. (1 mês, 3 meses)\n",
    "    - A pessoa precisa ser similar ou parecido com uma pessoa do grupo.\n",
    "\n",
    "7. Quais as condições para uma pessoa ser removida do Insiders?\n",
    "    - Definir a periodicidade. (1 mês, 3 meses)\n",
    "    - A pessoa precisa ser desimilar ou não-parecido com uma pessoa do grupo.\n",
    "\n",
    "\n",
    "8. Qual a garantia que o programa Insiders é melhor que o restante da base?\n",
    "    - Teste A/B.\n",
    "    - Teste A/B Bayesiano.\n",
    "    - Teste de hipóteses.\n",
    "     \n",
    "\n",
    "9. Quais ações o time de marketing pode realizar para aumentar o faturamento?\n",
    "    - Desconto\n",
    "    - Preferência de compra\n",
    "    - Frete\n",
    "    - Visita a empresa\n",
    "\n",
    "\n"
   ]
  },
  {
   "cell_type": "markdown",
   "id": "dba3d11b",
   "metadata": {},
   "source": [
    "## Benchmark de soluções\n",
    "### 1. Desk Research"
   ]
  },
  {
   "cell_type": "code",
   "execution_count": null,
   "id": "5dbb1afa",
   "metadata": {},
   "outputs": [],
   "source": []
  }
 ],
 "metadata": {
  "kernelspec": {
   "display_name": "Python 3 (ipykernel)",
   "language": "python",
   "name": "python3"
  },
  "language_info": {
   "codemirror_mode": {
    "name": "ipython",
    "version": 3
   },
   "file_extension": ".py",
   "mimetype": "text/x-python",
   "name": "python",
   "nbconvert_exporter": "python",
   "pygments_lexer": "ipython3",
   "version": "3.9.12"
  }
 },
 "nbformat": 4,
 "nbformat_minor": 5
}
